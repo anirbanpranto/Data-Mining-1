{
 "cells": [
  {
   "cell_type": "code",
   "execution_count": 9,
   "id": "51b3d03e-d5de-4da1-b362-834d5421bc1b",
   "metadata": {
    "colab": {
     "base_uri": "https://localhost:8080/",
     "height": 661
    },
    "id": "51b3d03e-d5de-4da1-b362-834d5421bc1b",
    "outputId": "816d8601-af2c-4df0-96bf-6da485e516f1"
   },
   "outputs": [
    {
     "data": {
      "text/html": [
       "<div>\n",
       "<style scoped>\n",
       "    .dataframe tbody tr th:only-of-type {\n",
       "        vertical-align: middle;\n",
       "    }\n",
       "\n",
       "    .dataframe tbody tr th {\n",
       "        vertical-align: top;\n",
       "    }\n",
       "\n",
       "    .dataframe thead th {\n",
       "        text-align: right;\n",
       "    }\n",
       "</style>\n",
       "<table border=\"1\" class=\"dataframe\">\n",
       "  <thead>\n",
       "    <tr style=\"text-align: right;\">\n",
       "      <th></th>\n",
       "      <th>ORIGIN</th>\n",
       "      <th>SECTOR</th>\n",
       "      <th>TREATMENT_LOCATION</th>\n",
       "      <th>SEX</th>\n",
       "      <th>BIRTHPLACE_LOCATION</th>\n",
       "      <th>PATIENT_LOCATION</th>\n",
       "      <th>MUNICIPALITY</th>\n",
       "      <th>HOSPITALIZED</th>\n",
       "      <th>ADMISSION DATE</th>\n",
       "      <th>DATE_OF_FIRST_SYMPTOM</th>\n",
       "      <th>...</th>\n",
       "      <th>OTHER_DISEASE</th>\n",
       "      <th>CARDIOVASCULAR</th>\n",
       "      <th>OBESITY</th>\n",
       "      <th>CHRONIC_KIDNEY</th>\n",
       "      <th>TOBACCO</th>\n",
       "      <th>ANOTHER CASE</th>\n",
       "      <th>OUTCOME</th>\n",
       "      <th>MIGRANT</th>\n",
       "      <th>COUNTRY OF ORIGIN</th>\n",
       "      <th>ICU</th>\n",
       "    </tr>\n",
       "  </thead>\n",
       "  <tbody>\n",
       "    <tr>\n",
       "      <th>0</th>\n",
       "      <td>OUTSIDE USMER</td>\n",
       "      <td>STATE</td>\n",
       "      <td>2</td>\n",
       "      <td>1</td>\n",
       "      <td>2</td>\n",
       "      <td>2</td>\n",
       "      <td>4</td>\n",
       "      <td>1</td>\n",
       "      <td>2020-04-22</td>\n",
       "      <td>2020-04-18</td>\n",
       "      <td>...</td>\n",
       "      <td>2</td>\n",
       "      <td>2</td>\n",
       "      <td>2</td>\n",
       "      <td>2</td>\n",
       "      <td>2</td>\n",
       "      <td>1</td>\n",
       "      <td>1</td>\n",
       "      <td>99</td>\n",
       "      <td>99</td>\n",
       "      <td>97</td>\n",
       "    </tr>\n",
       "    <tr>\n",
       "      <th>1</th>\n",
       "      <td>OUTSIDE USMER</td>\n",
       "      <td>STATE</td>\n",
       "      <td>15</td>\n",
       "      <td>2</td>\n",
       "      <td>15</td>\n",
       "      <td>15</td>\n",
       "      <td>33</td>\n",
       "      <td>2</td>\n",
       "      <td>2020-05-18</td>\n",
       "      <td>2020-05-15</td>\n",
       "      <td>...</td>\n",
       "      <td>2</td>\n",
       "      <td>2</td>\n",
       "      <td>2</td>\n",
       "      <td>1</td>\n",
       "      <td>2</td>\n",
       "      <td>2</td>\n",
       "      <td>1</td>\n",
       "      <td>99</td>\n",
       "      <td>99</td>\n",
       "      <td>2</td>\n",
       "    </tr>\n",
       "    <tr>\n",
       "      <th>2</th>\n",
       "      <td>OUTSIDE USMER</td>\n",
       "      <td>STATE</td>\n",
       "      <td>2</td>\n",
       "      <td>1</td>\n",
       "      <td>2</td>\n",
       "      <td>2</td>\n",
       "      <td>2</td>\n",
       "      <td>1</td>\n",
       "      <td>2020-05-22</td>\n",
       "      <td>2020-05-19</td>\n",
       "      <td>...</td>\n",
       "      <td>2</td>\n",
       "      <td>2</td>\n",
       "      <td>1</td>\n",
       "      <td>2</td>\n",
       "      <td>2</td>\n",
       "      <td>1</td>\n",
       "      <td>1</td>\n",
       "      <td>99</td>\n",
       "      <td>99</td>\n",
       "      <td>97</td>\n",
       "    </tr>\n",
       "    <tr>\n",
       "      <th>3</th>\n",
       "      <td>OUTSIDE USMER</td>\n",
       "      <td>STATE</td>\n",
       "      <td>15</td>\n",
       "      <td>2</td>\n",
       "      <td>9</td>\n",
       "      <td>15</td>\n",
       "      <td>87</td>\n",
       "      <td>1</td>\n",
       "      <td>2020-06-05</td>\n",
       "      <td>2020-06-04</td>\n",
       "      <td>...</td>\n",
       "      <td>2</td>\n",
       "      <td>2</td>\n",
       "      <td>2</td>\n",
       "      <td>2</td>\n",
       "      <td>1</td>\n",
       "      <td>1</td>\n",
       "      <td>1</td>\n",
       "      <td>99</td>\n",
       "      <td>99</td>\n",
       "      <td>97</td>\n",
       "    </tr>\n",
       "    <tr>\n",
       "      <th>4</th>\n",
       "      <td>OUTSIDE USMER</td>\n",
       "      <td>IMSS</td>\n",
       "      <td>25</td>\n",
       "      <td>2</td>\n",
       "      <td>25</td>\n",
       "      <td>25</td>\n",
       "      <td>6</td>\n",
       "      <td>1</td>\n",
       "      <td>2020-04-22</td>\n",
       "      <td>2020-04-18</td>\n",
       "      <td>...</td>\n",
       "      <td>2</td>\n",
       "      <td>2</td>\n",
       "      <td>2</td>\n",
       "      <td>2</td>\n",
       "      <td>2</td>\n",
       "      <td>99</td>\n",
       "      <td>1</td>\n",
       "      <td>99</td>\n",
       "      <td>99</td>\n",
       "      <td>97</td>\n",
       "    </tr>\n",
       "    <tr>\n",
       "      <th>...</th>\n",
       "      <td>...</td>\n",
       "      <td>...</td>\n",
       "      <td>...</td>\n",
       "      <td>...</td>\n",
       "      <td>...</td>\n",
       "      <td>...</td>\n",
       "      <td>...</td>\n",
       "      <td>...</td>\n",
       "      <td>...</td>\n",
       "      <td>...</td>\n",
       "      <td>...</td>\n",
       "      <td>...</td>\n",
       "      <td>...</td>\n",
       "      <td>...</td>\n",
       "      <td>...</td>\n",
       "      <td>...</td>\n",
       "      <td>...</td>\n",
       "      <td>...</td>\n",
       "      <td>...</td>\n",
       "      <td>...</td>\n",
       "      <td>...</td>\n",
       "    </tr>\n",
       "    <tr>\n",
       "      <th>159788</th>\n",
       "      <td>USMER</td>\n",
       "      <td>SSA</td>\n",
       "      <td>25</td>\n",
       "      <td>2</td>\n",
       "      <td>25</td>\n",
       "      <td>25</td>\n",
       "      <td>9</td>\n",
       "      <td>1</td>\n",
       "      <td>2020-06-02</td>\n",
       "      <td>2020-05-23</td>\n",
       "      <td>...</td>\n",
       "      <td>2</td>\n",
       "      <td>2</td>\n",
       "      <td>2</td>\n",
       "      <td>2</td>\n",
       "      <td>2</td>\n",
       "      <td>99</td>\n",
       "      <td>1</td>\n",
       "      <td>99</td>\n",
       "      <td>99</td>\n",
       "      <td>97</td>\n",
       "    </tr>\n",
       "    <tr>\n",
       "      <th>159789</th>\n",
       "      <td>USMER</td>\n",
       "      <td>SSA</td>\n",
       "      <td>22</td>\n",
       "      <td>1</td>\n",
       "      <td>22</td>\n",
       "      <td>22</td>\n",
       "      <td>12</td>\n",
       "      <td>2</td>\n",
       "      <td>2020-06-04</td>\n",
       "      <td>2020-06-02</td>\n",
       "      <td>...</td>\n",
       "      <td>2</td>\n",
       "      <td>2</td>\n",
       "      <td>2</td>\n",
       "      <td>2</td>\n",
       "      <td>2</td>\n",
       "      <td>2</td>\n",
       "      <td>1</td>\n",
       "      <td>99</td>\n",
       "      <td>99</td>\n",
       "      <td>2</td>\n",
       "    </tr>\n",
       "    <tr>\n",
       "      <th>159790</th>\n",
       "      <td>OUTSIDE USMER</td>\n",
       "      <td>SSA</td>\n",
       "      <td>12</td>\n",
       "      <td>2</td>\n",
       "      <td>12</td>\n",
       "      <td>12</td>\n",
       "      <td>50</td>\n",
       "      <td>1</td>\n",
       "      <td>2020-06-04</td>\n",
       "      <td>2020-06-03</td>\n",
       "      <td>...</td>\n",
       "      <td>2</td>\n",
       "      <td>2</td>\n",
       "      <td>1</td>\n",
       "      <td>2</td>\n",
       "      <td>2</td>\n",
       "      <td>1</td>\n",
       "      <td>1</td>\n",
       "      <td>99</td>\n",
       "      <td>99</td>\n",
       "      <td>97</td>\n",
       "    </tr>\n",
       "    <tr>\n",
       "      <th>159791</th>\n",
       "      <td>OUTSIDE USMER</td>\n",
       "      <td>IMSS</td>\n",
       "      <td>15</td>\n",
       "      <td>2</td>\n",
       "      <td>15</td>\n",
       "      <td>15</td>\n",
       "      <td>39</td>\n",
       "      <td>1</td>\n",
       "      <td>2020-06-04</td>\n",
       "      <td>2020-06-02</td>\n",
       "      <td>...</td>\n",
       "      <td>2</td>\n",
       "      <td>2</td>\n",
       "      <td>2</td>\n",
       "      <td>2</td>\n",
       "      <td>2</td>\n",
       "      <td>99</td>\n",
       "      <td>1</td>\n",
       "      <td>99</td>\n",
       "      <td>99</td>\n",
       "      <td>97</td>\n",
       "    </tr>\n",
       "    <tr>\n",
       "      <th>159792</th>\n",
       "      <td>OUTSIDE USMER</td>\n",
       "      <td>SSA</td>\n",
       "      <td>8</td>\n",
       "      <td>1</td>\n",
       "      <td>8</td>\n",
       "      <td>10</td>\n",
       "      <td>5</td>\n",
       "      <td>2</td>\n",
       "      <td>2020-05-28</td>\n",
       "      <td>2020-05-28</td>\n",
       "      <td>...</td>\n",
       "      <td>1</td>\n",
       "      <td>2</td>\n",
       "      <td>1</td>\n",
       "      <td>2</td>\n",
       "      <td>1</td>\n",
       "      <td>1</td>\n",
       "      <td>1</td>\n",
       "      <td>99</td>\n",
       "      <td>99</td>\n",
       "      <td>2</td>\n",
       "    </tr>\n",
       "  </tbody>\n",
       "</table>\n",
       "<p>159793 rows × 32 columns</p>\n",
       "</div>"
      ],
      "text/plain": [
       "               ORIGIN SECTOR  TREATMENT_LOCATION  SEX  BIRTHPLACE_LOCATION  \\\n",
       "0       OUTSIDE USMER  STATE                   2    1                    2   \n",
       "1       OUTSIDE USMER  STATE                  15    2                   15   \n",
       "2       OUTSIDE USMER  STATE                   2    1                    2   \n",
       "3       OUTSIDE USMER  STATE                  15    2                    9   \n",
       "4       OUTSIDE USMER   IMSS                  25    2                   25   \n",
       "...               ...    ...                 ...  ...                  ...   \n",
       "159788          USMER    SSA                  25    2                   25   \n",
       "159789          USMER    SSA                  22    1                   22   \n",
       "159790  OUTSIDE USMER    SSA                  12    2                   12   \n",
       "159791  OUTSIDE USMER   IMSS                  15    2                   15   \n",
       "159792  OUTSIDE USMER    SSA                   8    1                    8   \n",
       "\n",
       "        PATIENT_LOCATION  MUNICIPALITY  HOSPITALIZED ADMISSION DATE  \\\n",
       "0                      2             4             1     2020-04-22   \n",
       "1                     15            33             2     2020-05-18   \n",
       "2                      2             2             1     2020-05-22   \n",
       "3                     15            87             1     2020-06-05   \n",
       "4                     25             6             1     2020-04-22   \n",
       "...                  ...           ...           ...            ...   \n",
       "159788                25             9             1     2020-06-02   \n",
       "159789                22            12             2     2020-06-04   \n",
       "159790                12            50             1     2020-06-04   \n",
       "159791                15            39             1     2020-06-04   \n",
       "159792                10             5             2     2020-05-28   \n",
       "\n",
       "       DATE_OF_FIRST_SYMPTOM  ... OTHER_DISEASE  CARDIOVASCULAR  OBESITY  \\\n",
       "0                 2020-04-18  ...             2               2        2   \n",
       "1                 2020-05-15  ...             2               2        2   \n",
       "2                 2020-05-19  ...             2               2        1   \n",
       "3                 2020-06-04  ...             2               2        2   \n",
       "4                 2020-04-18  ...             2               2        2   \n",
       "...                      ...  ...           ...             ...      ...   \n",
       "159788            2020-05-23  ...             2               2        2   \n",
       "159789            2020-06-02  ...             2               2        2   \n",
       "159790            2020-06-03  ...             2               2        1   \n",
       "159791            2020-06-02  ...             2               2        2   \n",
       "159792            2020-05-28  ...             1               2        1   \n",
       "\n",
       "        CHRONIC_KIDNEY  TOBACCO  ANOTHER CASE  OUTCOME  MIGRANT  \\\n",
       "0                    2        2             1        1       99   \n",
       "1                    1        2             2        1       99   \n",
       "2                    2        2             1        1       99   \n",
       "3                    2        1             1        1       99   \n",
       "4                    2        2            99        1       99   \n",
       "...                ...      ...           ...      ...      ...   \n",
       "159788               2        2            99        1       99   \n",
       "159789               2        2             2        1       99   \n",
       "159790               2        2             1        1       99   \n",
       "159791               2        2            99        1       99   \n",
       "159792               2        1             1        1       99   \n",
       "\n",
       "        COUNTRY OF ORIGIN  ICU  \n",
       "0                      99   97  \n",
       "1                      99    2  \n",
       "2                      99   97  \n",
       "3                      99   97  \n",
       "4                      99   97  \n",
       "...                   ...  ...  \n",
       "159788                 99   97  \n",
       "159789                 99    2  \n",
       "159790                 99   97  \n",
       "159791                 99   97  \n",
       "159792                 99    2  \n",
       "\n",
       "[159793 rows x 32 columns]"
      ]
     },
     "execution_count": 9,
     "metadata": {},
     "output_type": "execute_result"
    }
   ],
   "source": [
    "import pandas as pd\n",
    "import numpy as np\n",
    "\n",
    "dataframe = pd.read_csv('dataset.csv')\n",
    "#showing our initial dataframe here\n",
    "dataframe"
   ]
  },
  {
   "cell_type": "code",
   "execution_count": 10,
   "id": "0420cf13-f6cf-48a5-9d70-293dc7396181",
   "metadata": {
    "colab": {
     "base_uri": "https://localhost:8080/",
     "height": 800
    },
    "id": "0420cf13-f6cf-48a5-9d70-293dc7396181",
    "outputId": "a90c638e-7959-4278-dfcd-e2d49ded06a7"
   },
   "outputs": [
    {
     "data": {
      "text/html": [
       "<div>\n",
       "<style scoped>\n",
       "    .dataframe tbody tr th:only-of-type {\n",
       "        vertical-align: middle;\n",
       "    }\n",
       "\n",
       "    .dataframe tbody tr th {\n",
       "        vertical-align: top;\n",
       "    }\n",
       "\n",
       "    .dataframe thead th {\n",
       "        text-align: right;\n",
       "    }\n",
       "</style>\n",
       "<table border=\"1\" class=\"dataframe\">\n",
       "  <thead>\n",
       "    <tr style=\"text-align: right;\">\n",
       "      <th></th>\n",
       "      <th>ORIGIN</th>\n",
       "      <th>SECTOR</th>\n",
       "      <th>TREATMENT_LOCATION</th>\n",
       "      <th>SEX</th>\n",
       "      <th>BIRTHPLACE_LOCATION</th>\n",
       "      <th>PATIENT_LOCATION</th>\n",
       "      <th>MUNICIPALITY</th>\n",
       "      <th>HOSPITALIZED</th>\n",
       "      <th>ADMISSION DATE</th>\n",
       "      <th>DATE_OF_FIRST_SYMPTOM</th>\n",
       "      <th>...</th>\n",
       "      <th>OTHER_DISEASE</th>\n",
       "      <th>CARDIOVASCULAR</th>\n",
       "      <th>OBESITY</th>\n",
       "      <th>CHRONIC_KIDNEY</th>\n",
       "      <th>TOBACCO</th>\n",
       "      <th>ANOTHER CASE</th>\n",
       "      <th>OUTCOME</th>\n",
       "      <th>MIGRANT</th>\n",
       "      <th>COUNTRY OF ORIGIN</th>\n",
       "      <th>ICU</th>\n",
       "    </tr>\n",
       "  </thead>\n",
       "  <tbody>\n",
       "    <tr>\n",
       "      <th>0</th>\n",
       "      <td>OUTSIDE USMER</td>\n",
       "      <td>STATE</td>\n",
       "      <td>2</td>\n",
       "      <td>Female</td>\n",
       "      <td>2</td>\n",
       "      <td>2</td>\n",
       "      <td>4</td>\n",
       "      <td>NO</td>\n",
       "      <td>2020-04-22</td>\n",
       "      <td>2020-04-18</td>\n",
       "      <td>...</td>\n",
       "      <td>NO</td>\n",
       "      <td>NO</td>\n",
       "      <td>NO</td>\n",
       "      <td>NO</td>\n",
       "      <td>NO</td>\n",
       "      <td>YES</td>\n",
       "      <td>POSITIVE</td>\n",
       "      <td>UNKNOWN</td>\n",
       "      <td>99</td>\n",
       "      <td>DOES NOT APPLY</td>\n",
       "    </tr>\n",
       "    <tr>\n",
       "      <th>1</th>\n",
       "      <td>OUTSIDE USMER</td>\n",
       "      <td>STATE</td>\n",
       "      <td>15</td>\n",
       "      <td>Male</td>\n",
       "      <td>15</td>\n",
       "      <td>15</td>\n",
       "      <td>33</td>\n",
       "      <td>YES</td>\n",
       "      <td>2020-05-18</td>\n",
       "      <td>2020-05-15</td>\n",
       "      <td>...</td>\n",
       "      <td>NO</td>\n",
       "      <td>NO</td>\n",
       "      <td>NO</td>\n",
       "      <td>YES</td>\n",
       "      <td>NO</td>\n",
       "      <td>NO</td>\n",
       "      <td>POSITIVE</td>\n",
       "      <td>UNKNOWN</td>\n",
       "      <td>99</td>\n",
       "      <td>NO</td>\n",
       "    </tr>\n",
       "    <tr>\n",
       "      <th>2</th>\n",
       "      <td>OUTSIDE USMER</td>\n",
       "      <td>STATE</td>\n",
       "      <td>2</td>\n",
       "      <td>Female</td>\n",
       "      <td>2</td>\n",
       "      <td>2</td>\n",
       "      <td>2</td>\n",
       "      <td>NO</td>\n",
       "      <td>2020-05-22</td>\n",
       "      <td>2020-05-19</td>\n",
       "      <td>...</td>\n",
       "      <td>NO</td>\n",
       "      <td>NO</td>\n",
       "      <td>YES</td>\n",
       "      <td>NO</td>\n",
       "      <td>NO</td>\n",
       "      <td>YES</td>\n",
       "      <td>POSITIVE</td>\n",
       "      <td>UNKNOWN</td>\n",
       "      <td>99</td>\n",
       "      <td>DOES NOT APPLY</td>\n",
       "    </tr>\n",
       "    <tr>\n",
       "      <th>3</th>\n",
       "      <td>OUTSIDE USMER</td>\n",
       "      <td>STATE</td>\n",
       "      <td>15</td>\n",
       "      <td>Male</td>\n",
       "      <td>9</td>\n",
       "      <td>15</td>\n",
       "      <td>87</td>\n",
       "      <td>NO</td>\n",
       "      <td>2020-06-05</td>\n",
       "      <td>2020-06-04</td>\n",
       "      <td>...</td>\n",
       "      <td>NO</td>\n",
       "      <td>NO</td>\n",
       "      <td>NO</td>\n",
       "      <td>NO</td>\n",
       "      <td>YES</td>\n",
       "      <td>YES</td>\n",
       "      <td>POSITIVE</td>\n",
       "      <td>UNKNOWN</td>\n",
       "      <td>99</td>\n",
       "      <td>DOES NOT APPLY</td>\n",
       "    </tr>\n",
       "    <tr>\n",
       "      <th>4</th>\n",
       "      <td>OUTSIDE USMER</td>\n",
       "      <td>IMSS</td>\n",
       "      <td>25</td>\n",
       "      <td>Male</td>\n",
       "      <td>25</td>\n",
       "      <td>25</td>\n",
       "      <td>6</td>\n",
       "      <td>NO</td>\n",
       "      <td>2020-04-22</td>\n",
       "      <td>2020-04-18</td>\n",
       "      <td>...</td>\n",
       "      <td>NO</td>\n",
       "      <td>NO</td>\n",
       "      <td>NO</td>\n",
       "      <td>NO</td>\n",
       "      <td>NO</td>\n",
       "      <td>UNKNOWN</td>\n",
       "      <td>POSITIVE</td>\n",
       "      <td>UNKNOWN</td>\n",
       "      <td>99</td>\n",
       "      <td>DOES NOT APPLY</td>\n",
       "    </tr>\n",
       "    <tr>\n",
       "      <th>...</th>\n",
       "      <td>...</td>\n",
       "      <td>...</td>\n",
       "      <td>...</td>\n",
       "      <td>...</td>\n",
       "      <td>...</td>\n",
       "      <td>...</td>\n",
       "      <td>...</td>\n",
       "      <td>...</td>\n",
       "      <td>...</td>\n",
       "      <td>...</td>\n",
       "      <td>...</td>\n",
       "      <td>...</td>\n",
       "      <td>...</td>\n",
       "      <td>...</td>\n",
       "      <td>...</td>\n",
       "      <td>...</td>\n",
       "      <td>...</td>\n",
       "      <td>...</td>\n",
       "      <td>...</td>\n",
       "      <td>...</td>\n",
       "      <td>...</td>\n",
       "    </tr>\n",
       "    <tr>\n",
       "      <th>159788</th>\n",
       "      <td>USMER</td>\n",
       "      <td>SSA</td>\n",
       "      <td>25</td>\n",
       "      <td>Male</td>\n",
       "      <td>25</td>\n",
       "      <td>25</td>\n",
       "      <td>9</td>\n",
       "      <td>NO</td>\n",
       "      <td>2020-06-02</td>\n",
       "      <td>2020-05-23</td>\n",
       "      <td>...</td>\n",
       "      <td>NO</td>\n",
       "      <td>NO</td>\n",
       "      <td>NO</td>\n",
       "      <td>NO</td>\n",
       "      <td>NO</td>\n",
       "      <td>UNKNOWN</td>\n",
       "      <td>POSITIVE</td>\n",
       "      <td>UNKNOWN</td>\n",
       "      <td>99</td>\n",
       "      <td>DOES NOT APPLY</td>\n",
       "    </tr>\n",
       "    <tr>\n",
       "      <th>159789</th>\n",
       "      <td>USMER</td>\n",
       "      <td>SSA</td>\n",
       "      <td>22</td>\n",
       "      <td>Female</td>\n",
       "      <td>22</td>\n",
       "      <td>22</td>\n",
       "      <td>12</td>\n",
       "      <td>YES</td>\n",
       "      <td>2020-06-04</td>\n",
       "      <td>2020-06-02</td>\n",
       "      <td>...</td>\n",
       "      <td>NO</td>\n",
       "      <td>NO</td>\n",
       "      <td>NO</td>\n",
       "      <td>NO</td>\n",
       "      <td>NO</td>\n",
       "      <td>NO</td>\n",
       "      <td>POSITIVE</td>\n",
       "      <td>UNKNOWN</td>\n",
       "      <td>99</td>\n",
       "      <td>NO</td>\n",
       "    </tr>\n",
       "    <tr>\n",
       "      <th>159790</th>\n",
       "      <td>OUTSIDE USMER</td>\n",
       "      <td>SSA</td>\n",
       "      <td>12</td>\n",
       "      <td>Male</td>\n",
       "      <td>12</td>\n",
       "      <td>12</td>\n",
       "      <td>50</td>\n",
       "      <td>NO</td>\n",
       "      <td>2020-06-04</td>\n",
       "      <td>2020-06-03</td>\n",
       "      <td>...</td>\n",
       "      <td>NO</td>\n",
       "      <td>NO</td>\n",
       "      <td>YES</td>\n",
       "      <td>NO</td>\n",
       "      <td>NO</td>\n",
       "      <td>YES</td>\n",
       "      <td>POSITIVE</td>\n",
       "      <td>UNKNOWN</td>\n",
       "      <td>99</td>\n",
       "      <td>DOES NOT APPLY</td>\n",
       "    </tr>\n",
       "    <tr>\n",
       "      <th>159791</th>\n",
       "      <td>OUTSIDE USMER</td>\n",
       "      <td>IMSS</td>\n",
       "      <td>15</td>\n",
       "      <td>Male</td>\n",
       "      <td>15</td>\n",
       "      <td>15</td>\n",
       "      <td>39</td>\n",
       "      <td>NO</td>\n",
       "      <td>2020-06-04</td>\n",
       "      <td>2020-06-02</td>\n",
       "      <td>...</td>\n",
       "      <td>NO</td>\n",
       "      <td>NO</td>\n",
       "      <td>NO</td>\n",
       "      <td>NO</td>\n",
       "      <td>NO</td>\n",
       "      <td>UNKNOWN</td>\n",
       "      <td>POSITIVE</td>\n",
       "      <td>UNKNOWN</td>\n",
       "      <td>99</td>\n",
       "      <td>DOES NOT APPLY</td>\n",
       "    </tr>\n",
       "    <tr>\n",
       "      <th>159792</th>\n",
       "      <td>OUTSIDE USMER</td>\n",
       "      <td>SSA</td>\n",
       "      <td>8</td>\n",
       "      <td>Female</td>\n",
       "      <td>8</td>\n",
       "      <td>10</td>\n",
       "      <td>5</td>\n",
       "      <td>YES</td>\n",
       "      <td>2020-05-28</td>\n",
       "      <td>2020-05-28</td>\n",
       "      <td>...</td>\n",
       "      <td>YES</td>\n",
       "      <td>NO</td>\n",
       "      <td>YES</td>\n",
       "      <td>NO</td>\n",
       "      <td>YES</td>\n",
       "      <td>YES</td>\n",
       "      <td>POSITIVE</td>\n",
       "      <td>UNKNOWN</td>\n",
       "      <td>99</td>\n",
       "      <td>NO</td>\n",
       "    </tr>\n",
       "  </tbody>\n",
       "</table>\n",
       "<p>159793 rows × 32 columns</p>\n",
       "</div>"
      ],
      "text/plain": [
       "               ORIGIN SECTOR  TREATMENT_LOCATION      SEX  \\\n",
       "0       OUTSIDE USMER  STATE                   2   Female   \n",
       "1       OUTSIDE USMER  STATE                  15     Male   \n",
       "2       OUTSIDE USMER  STATE                   2   Female   \n",
       "3       OUTSIDE USMER  STATE                  15     Male   \n",
       "4       OUTSIDE USMER   IMSS                  25     Male   \n",
       "...               ...    ...                 ...      ...   \n",
       "159788          USMER    SSA                  25     Male   \n",
       "159789          USMER    SSA                  22   Female   \n",
       "159790  OUTSIDE USMER    SSA                  12     Male   \n",
       "159791  OUTSIDE USMER   IMSS                  15     Male   \n",
       "159792  OUTSIDE USMER    SSA                   8   Female   \n",
       "\n",
       "        BIRTHPLACE_LOCATION  PATIENT_LOCATION  MUNICIPALITY HOSPITALIZED  \\\n",
       "0                         2                 2             4           NO   \n",
       "1                        15                15            33          YES   \n",
       "2                         2                 2             2           NO   \n",
       "3                         9                15            87           NO   \n",
       "4                        25                25             6           NO   \n",
       "...                     ...               ...           ...          ...   \n",
       "159788                   25                25             9           NO   \n",
       "159789                   22                22            12          YES   \n",
       "159790                   12                12            50           NO   \n",
       "159791                   15                15            39           NO   \n",
       "159792                    8                10             5          YES   \n",
       "\n",
       "       ADMISSION DATE DATE_OF_FIRST_SYMPTOM  ... OTHER_DISEASE CARDIOVASCULAR  \\\n",
       "0          2020-04-22            2020-04-18  ...            NO             NO   \n",
       "1          2020-05-18            2020-05-15  ...            NO             NO   \n",
       "2          2020-05-22            2020-05-19  ...            NO             NO   \n",
       "3          2020-06-05            2020-06-04  ...            NO             NO   \n",
       "4          2020-04-22            2020-04-18  ...            NO             NO   \n",
       "...               ...                   ...  ...           ...            ...   \n",
       "159788     2020-06-02            2020-05-23  ...            NO             NO   \n",
       "159789     2020-06-04            2020-06-02  ...            NO             NO   \n",
       "159790     2020-06-04            2020-06-03  ...            NO             NO   \n",
       "159791     2020-06-04            2020-06-02  ...            NO             NO   \n",
       "159792     2020-05-28            2020-05-28  ...           YES             NO   \n",
       "\n",
       "       OBESITY  CHRONIC_KIDNEY TOBACCO ANOTHER CASE   OUTCOME  MIGRANT  \\\n",
       "0           NO              NO      NO          YES  POSITIVE  UNKNOWN   \n",
       "1           NO             YES      NO           NO  POSITIVE  UNKNOWN   \n",
       "2          YES              NO      NO          YES  POSITIVE  UNKNOWN   \n",
       "3           NO              NO     YES          YES  POSITIVE  UNKNOWN   \n",
       "4           NO              NO      NO      UNKNOWN  POSITIVE  UNKNOWN   \n",
       "...        ...             ...     ...          ...       ...      ...   \n",
       "159788      NO              NO      NO      UNKNOWN  POSITIVE  UNKNOWN   \n",
       "159789      NO              NO      NO           NO  POSITIVE  UNKNOWN   \n",
       "159790     YES              NO      NO          YES  POSITIVE  UNKNOWN   \n",
       "159791      NO              NO      NO      UNKNOWN  POSITIVE  UNKNOWN   \n",
       "159792     YES              NO     YES          YES  POSITIVE  UNKNOWN   \n",
       "\n",
       "       COUNTRY OF ORIGIN             ICU  \n",
       "0                     99  DOES NOT APPLY  \n",
       "1                     99              NO  \n",
       "2                     99  DOES NOT APPLY  \n",
       "3                     99  DOES NOT APPLY  \n",
       "4                     99  DOES NOT APPLY  \n",
       "...                  ...             ...  \n",
       "159788                99  DOES NOT APPLY  \n",
       "159789                99              NO  \n",
       "159790                99  DOES NOT APPLY  \n",
       "159791                99  DOES NOT APPLY  \n",
       "159792                99              NO  \n",
       "\n",
       "[159793 rows x 32 columns]"
      ]
     },
     "execution_count": 10,
     "metadata": {},
     "output_type": "execute_result"
    }
   ],
   "source": [
    "## Question 1\n",
    "unmodified = dataframe.copy()\n",
    "\n",
    "df = pd.read_excel('data_dictionary.xlsx')\n",
    "dictionary = df.set_index('variable').T.to_dict()\n",
    "\n",
    "for key, value in dictionary.items():\n",
    "    for i in value.values():\n",
    "        res = dict(item.split(\"=\") for item in i.split(\", \"))\n",
    "        dictionary[key] = res\n",
    "\n",
    "dictionary = {outer_k.upper(): {inner_k.replace(' ', ''): inner_v for inner_k, inner_v in outer_v.items()} for outer_k, outer_v in dictionary.items()}\n",
    "\n",
    "for key, value in dictionary.items():\n",
    "    dataframe[key]= dataframe[key].astype(str)\n",
    "    dataframe.replace({key: dictionary[key]}, inplace=True)\n",
    "    \n",
    "dataframe"
   ]
  },
  {
   "cell_type": "code",
   "execution_count": 3,
   "id": "ffb96c28-2d62-4cb5-9aca-905210d7a44a",
   "metadata": {
    "id": "ffb96c28-2d62-4cb5-9aca-905210d7a44a"
   },
   "outputs": [],
   "source": [
    "#saving the q1 dataframe for displaying onto streamlit\n",
    "pd.DataFrame.to_csv(dataframe, 'q1.csv')"
   ]
  },
  {
   "cell_type": "markdown",
   "id": "bac08d66-cee8-43ba-a8ca-d70e73939b63",
   "metadata": {
    "id": "bac08d66-cee8-43ba-a8ca-d70e73939b63",
    "tags": []
   },
   "source": [
    "### Question 2"
   ]
  },
  {
   "cell_type": "code",
   "execution_count": 8,
   "id": "5cc97edd-36a2-466f-aa2b-a83cdbcf91d1",
   "metadata": {
    "colab": {
     "base_uri": "https://localhost:8080/",
     "height": 282
    },
    "id": "5cc97edd-36a2-466f-aa2b-a83cdbcf91d1",
    "outputId": "5979cb2a-8c98-4551-aac1-4984a0f1b433"
   },
   "outputs": [
    {
     "data": {
      "text/plain": [
       "<AxesSubplot:ylabel='Frequency'>"
      ]
     },
     "execution_count": 8,
     "metadata": {},
     "output_type": "execute_result"
    },
    {
     "data": {
      "image/png": "[encoded data removed]",
      "text/plain": [
       "<Figure size 720x576 with 1 Axes>"
      ]
     },
     "metadata": {
      "needs_background": "light"
     },
     "output_type": "display_data"
    }
   ],
   "source": [
    "## Question 2\n",
    "plt = dataframe[\"AGE\"].plot(kind=\"hist\", bins=10, figsize=(10,8))\n",
    "plt.figure.savefig('Q2_histogram.png')\n",
    "plt"
   ]
  },
  {
   "cell_type": "markdown",
   "id": "2df8525a-e404-4cbf-97fa-32bc7f086c5a",
   "metadata": {
    "id": "2df8525a-e404-4cbf-97fa-32bc7f086c5a"
   },
   "source": [
    "### Question 3"
   ]
  },
  {
   "cell_type": "code",
   "execution_count": 6,
   "id": "6dac137e-41cd-4514-9bd7-5a31de2ce1d2",
   "metadata": {
    "colab": {
     "base_uri": "https://localhost:8080/",
     "height": 143
    },
    "id": "6dac137e-41cd-4514-9bd7-5a31de2ce1d2",
    "outputId": "d7825866-732a-4f6a-c961-72ce779425e3"
   },
   "outputs": [
    {
     "data": {
      "text/html": [
       "<div>\n",
       "<style scoped>\n",
       "    .dataframe tbody tr th:only-of-type {\n",
       "        vertical-align: middle;\n",
       "    }\n",
       "\n",
       "    .dataframe tbody tr th {\n",
       "        vertical-align: top;\n",
       "    }\n",
       "\n",
       "    .dataframe thead th {\n",
       "        text-align: right;\n",
       "    }\n",
       "</style>\n",
       "<table border=\"1\" class=\"dataframe\">\n",
       "  <thead>\n",
       "    <tr style=\"text-align: right;\">\n",
       "      <th>AGE</th>\n",
       "      <th>(0, 10]</th>\n",
       "      <th>(10, 20]</th>\n",
       "      <th>(20, 30]</th>\n",
       "      <th>(30, 40]</th>\n",
       "      <th>(40, 50]</th>\n",
       "      <th>(50, 60]</th>\n",
       "      <th>(60, 70]</th>\n",
       "      <th>(70, 80]</th>\n",
       "      <th>(80, 90]</th>\n",
       "      <th>(90, 100]</th>\n",
       "    </tr>\n",
       "    <tr>\n",
       "      <th>SEX</th>\n",
       "      <th></th>\n",
       "      <th></th>\n",
       "      <th></th>\n",
       "      <th></th>\n",
       "      <th></th>\n",
       "      <th></th>\n",
       "      <th></th>\n",
       "      <th></th>\n",
       "      <th></th>\n",
       "      <th></th>\n",
       "    </tr>\n",
       "  </thead>\n",
       "  <tbody>\n",
       "    <tr>\n",
       "      <th>Female</th>\n",
       "      <td>729</td>\n",
       "      <td>1888</td>\n",
       "      <td>11223</td>\n",
       "      <td>16390</td>\n",
       "      <td>16240</td>\n",
       "      <td>12388</td>\n",
       "      <td>7212</td>\n",
       "      <td>3628</td>\n",
       "      <td>1443</td>\n",
       "      <td>209</td>\n",
       "    </tr>\n",
       "    <tr>\n",
       "      <th>Male</th>\n",
       "      <td>783</td>\n",
       "      <td>1886</td>\n",
       "      <td>11823</td>\n",
       "      <td>19313</td>\n",
       "      <td>20026</td>\n",
       "      <td>17013</td>\n",
       "      <td>10241</td>\n",
       "      <td>5162</td>\n",
       "      <td>1691</td>\n",
       "      <td>216</td>\n",
       "    </tr>\n",
       "  </tbody>\n",
       "</table>\n",
       "</div>"
      ],
      "text/plain": [
       "AGE      (0, 10]  (10, 20]  (20, 30]  (30, 40]  (40, 50]  (50, 60]  (60, 70]  \\\n",
       "SEX                                                                            \n",
       " Female      729      1888     11223     16390     16240     12388      7212   \n",
       " Male        783      1886     11823     19313     20026     17013     10241   \n",
       "\n",
       "AGE      (70, 80]  (80, 90]  (90, 100]  \n",
       "SEX                                     \n",
       " Female      3628      1443        209  \n",
       " Male        5162      1691        216  "
      ]
     },
     "execution_count": 6,
     "metadata": {},
     "output_type": "execute_result"
    }
   ],
   "source": [
    "## Question 3\n",
    "bins = [0,10,20,30,40,50,60,70,80,90,100]\n",
    "\n",
    "group = dataframe.groupby(['SEX',pd.cut(dataframe.AGE, bins)])\n",
    "group.size().unstack()\n",
    "#"
   ]
  },
  {
   "cell_type": "markdown",
   "id": "303870e3-ddeb-4d95-9a67-ff119e9273e1",
   "metadata": {
    "id": "303870e3-ddeb-4d95-9a67-ff119e9273e1"
   },
   "source": [
    "### Question 4"
   ]
  },
  {
   "cell_type": "code",
   "execution_count": 7,
   "id": "b02fdc98-cd1b-41c6-83cd-e12b7a22c1f6",
   "metadata": {
    "colab": {
     "base_uri": "https://localhost:8080/"
    },
    "id": "b02fdc98-cd1b-41c6-83cd-e12b7a22c1f6",
    "outputId": "97febdf6-99e8-4241-bb75-4f3eaaf46a01"
   },
   "outputs": [
    {
     "data": {
      "text/plain": [
       "4828"
      ]
     },
     "execution_count": 7,
     "metadata": {},
     "output_type": "execute_result"
    }
   ],
   "source": [
    "## Question 4\n",
    "filter = dataframe['INTUBATED'] == 'YES'\n",
    "dataframe[filter].shape[0]"
   ]
  },
  {
   "cell_type": "markdown",
   "id": "2c4847a4-a05e-40e2-9ebb-363dc162da73",
   "metadata": {
    "id": "2c4847a4-a05e-40e2-9ebb-363dc162da73"
   },
   "source": [
    "### Question 5"
   ]
  },
  {
   "cell_type": "code",
   "execution_count": 12,
   "id": "8cdf42c4-9a4c-4f4f-b90b-6be4d22c8584",
   "metadata": {
    "id": "8cdf42c4-9a4c-4f4f-b90b-6be4d22c8584"
   },
   "outputs": [],
   "source": [
    "## Question 5\n",
    "diseases_and_ICU = list(['DIABETES', 'COPD', 'ASTHMA', 'INMUSUPR', 'HYPERTENSION', 'OTHER_DISEASE', 'ICU'])"
   ]
  },
  {
   "cell_type": "code",
   "execution_count": 13,
   "id": "0b555243-cdb7-4468-86b4-e8ae432e57a9",
   "metadata": {},
   "outputs": [
    {
     "data": {
      "text/html": [
       "<div>\n",
       "<style scoped>\n",
       "    .dataframe tbody tr th:only-of-type {\n",
       "        vertical-align: middle;\n",
       "    }\n",
       "\n",
       "    .dataframe tbody tr th {\n",
       "        vertical-align: top;\n",
       "    }\n",
       "\n",
       "    .dataframe thead th {\n",
       "        text-align: right;\n",
       "    }\n",
       "</style>\n",
       "<table border=\"1\" class=\"dataframe\">\n",
       "  <thead>\n",
       "    <tr style=\"text-align: right;\">\n",
       "      <th></th>\n",
       "      <th>DIABETES</th>\n",
       "      <th>COPD</th>\n",
       "      <th>ASTHMA</th>\n",
       "      <th>INMUSUPR</th>\n",
       "      <th>HYPERTENSION</th>\n",
       "      <th>OTHER_DISEASE</th>\n",
       "      <th>ICU</th>\n",
       "    </tr>\n",
       "  </thead>\n",
       "  <tbody>\n",
       "    <tr>\n",
       "      <th>DIABETES</th>\n",
       "      <td>1.000000</td>\n",
       "      <td>0.847660</td>\n",
       "      <td>0.853429</td>\n",
       "      <td>0.820727</td>\n",
       "      <td>0.854574</td>\n",
       "      <td>0.708794</td>\n",
       "      <td>-0.008068</td>\n",
       "    </tr>\n",
       "    <tr>\n",
       "      <th>COPD</th>\n",
       "      <td>0.847660</td>\n",
       "      <td>1.000000</td>\n",
       "      <td>0.930534</td>\n",
       "      <td>0.890390</td>\n",
       "      <td>0.877483</td>\n",
       "      <td>0.765948</td>\n",
       "      <td>-0.019711</td>\n",
       "    </tr>\n",
       "    <tr>\n",
       "      <th>ASTHMA</th>\n",
       "      <td>0.853429</td>\n",
       "      <td>0.930534</td>\n",
       "      <td>1.000000</td>\n",
       "      <td>0.907258</td>\n",
       "      <td>0.884746</td>\n",
       "      <td>0.777309</td>\n",
       "      <td>-0.023228</td>\n",
       "    </tr>\n",
       "    <tr>\n",
       "      <th>INMUSUPR</th>\n",
       "      <td>0.820727</td>\n",
       "      <td>0.890390</td>\n",
       "      <td>0.907258</td>\n",
       "      <td>1.000000</td>\n",
       "      <td>0.861896</td>\n",
       "      <td>0.805040</td>\n",
       "      <td>-0.023368</td>\n",
       "    </tr>\n",
       "    <tr>\n",
       "      <th>HYPERTENSION</th>\n",
       "      <td>0.854574</td>\n",
       "      <td>0.877483</td>\n",
       "      <td>0.884746</td>\n",
       "      <td>0.861896</td>\n",
       "      <td>1.000000</td>\n",
       "      <td>0.756025</td>\n",
       "      <td>-0.008134</td>\n",
       "    </tr>\n",
       "    <tr>\n",
       "      <th>OTHER_DISEASE</th>\n",
       "      <td>0.708794</td>\n",
       "      <td>0.765948</td>\n",
       "      <td>0.777309</td>\n",
       "      <td>0.805040</td>\n",
       "      <td>0.756025</td>\n",
       "      <td>1.000000</td>\n",
       "      <td>-0.033712</td>\n",
       "    </tr>\n",
       "    <tr>\n",
       "      <th>ICU</th>\n",
       "      <td>-0.008068</td>\n",
       "      <td>-0.019711</td>\n",
       "      <td>-0.023228</td>\n",
       "      <td>-0.023368</td>\n",
       "      <td>-0.008134</td>\n",
       "      <td>-0.033712</td>\n",
       "      <td>1.000000</td>\n",
       "    </tr>\n",
       "  </tbody>\n",
       "</table>\n",
       "</div>"
      ],
      "text/plain": [
       "               DIABETES      COPD    ASTHMA  INMUSUPR  HYPERTENSION  \\\n",
       "DIABETES       1.000000  0.847660  0.853429  0.820727      0.854574   \n",
       "COPD           0.847660  1.000000  0.930534  0.890390      0.877483   \n",
       "ASTHMA         0.853429  0.930534  1.000000  0.907258      0.884746   \n",
       "INMUSUPR       0.820727  0.890390  0.907258  1.000000      0.861896   \n",
       "HYPERTENSION   0.854574  0.877483  0.884746  0.861896      1.000000   \n",
       "OTHER_DISEASE  0.708794  0.765948  0.777309  0.805040      0.756025   \n",
       "ICU           -0.008068 -0.019711 -0.023228 -0.023368     -0.008134   \n",
       "\n",
       "               OTHER_DISEASE       ICU  \n",
       "DIABETES            0.708794 -0.008068  \n",
       "COPD                0.765948 -0.019711  \n",
       "ASTHMA              0.777309 -0.023228  \n",
       "INMUSUPR            0.805040 -0.023368  \n",
       "HYPERTENSION        0.756025 -0.008134  \n",
       "OTHER_DISEASE       1.000000 -0.033712  \n",
       "ICU                -0.033712  1.000000  "
      ]
     },
     "execution_count": 13,
     "metadata": {},
     "output_type": "execute_result"
    }
   ],
   "source": [
    "corr_disease = unmodified[diseases_and_ICU].corr()\n",
    "corr_disease"
   ]
  },
  {
   "cell_type": "code",
   "execution_count": 17,
   "id": "30151b04-d287-43db-a9eb-21c98d2b6388",
   "metadata": {},
   "outputs": [
    {
     "data": {
      "text/plain": [
       "<AxesSubplot:>"
      ]
     },
     "execution_count": 17,
     "metadata": {},
     "output_type": "execute_result"
    },
    {
     "data": {
      "image/png": "[encoded data removed]",
      "text/plain": [
       "<Figure size 720x576 with 2 Axes>"
      ]
     },
     "metadata": {
      "needs_background": "light"
     },
     "output_type": "display_data"
    }
   ],
   "source": [
    "import seaborn as sns;\n",
    "import matplotlib.pyplot as plt\n",
    "plt.figure(figsize=(10,8))\n",
    "heatmap = sns.heatmap(corr_disease)\n",
    "heatmap.get_figure().savefig('Q5_heatmap.png')\n",
    "heatmap"
   ]
  },
  {
   "cell_type": "markdown",
   "id": "d8a02632-a87b-4192-9590-582912a27422",
   "metadata": {
    "id": "d8a02632-a87b-4192-9590-582912a27422"
   },
   "source": [
    "### Question 6"
   ]
  },
  {
   "cell_type": "code",
   "execution_count": 39,
   "id": "d7f2e895-dd47-4b57-91e6-ae5711d50789",
   "metadata": {
    "colab": {
     "base_uri": "https://localhost:8080/",
     "height": 35
    },
    "id": "d7f2e895-dd47-4b57-91e6-ae5711d50789",
    "outputId": "06778130-fcee-4429-9111-dbb41381a2d1"
   },
   "outputs": [
    {
     "data": {
      "text/plain": [
       "'HYPERTENSION'"
      ]
     },
     "execution_count": 39,
     "metadata": {},
     "output_type": "execute_result"
    }
   ],
   "source": [
    "## Question 6\n",
    "filter = dataframe['DATE_OF_DEATH'].notnull()\n",
    "dataframe.loc[filter, 'DIABETES':'OTHER_DISEASE'][dataframe == 'YES'].count().sort_values(ascending=False).idxmax()"
   ]
  },
  {
   "cell_type": "markdown",
   "id": "50825358-8369-4e4a-8374-1d1ed23552b1",
   "metadata": {
    "id": "50825358-8369-4e4a-8374-1d1ed23552b1"
   },
   "source": [
    "### Question 7"
   ]
  },
  {
   "cell_type": "code",
   "execution_count": 18,
   "id": "16d39c2d-851f-402a-afeb-59ef35536685",
   "metadata": {
    "id": "16d39c2d-851f-402a-afeb-59ef35536685"
   },
   "outputs": [],
   "source": [
    "## Question 8\n",
    "from sklearn.ensemble import RandomForestClassifier\n",
    "from boruta import BorutaPy\n",
    "from sklearn.feature_selection import RFECV\n",
    "\n",
    "from sklearn.preprocessing import MinMaxScaler\n",
    "\n",
    "import warnings\n",
    "warnings.filterwarnings('ignore')"
   ]
  },
  {
   "cell_type": "code",
   "execution_count": 19,
   "id": "e22bcd70-2852-469b-8a48-eefb2a0b4567",
   "metadata": {
    "id": "e22bcd70-2852-469b-8a48-eefb2a0b4567"
   },
   "outputs": [],
   "source": [
    "def ranking(ranks, names, order=1):\n",
    "    minmax = MinMaxScaler()\n",
    "    ranks = minmax.fit_transform(order*np.array([ranks]).T).T[0]\n",
    "    ranks = map(lambda x: round(x,2), ranks)\n",
    "    return dict(zip(names, ranks))"
   ]
  },
  {
   "cell_type": "code",
   "execution_count": 20,
   "id": "ce059176-fe40-4705-afe5-4021185cba2b",
   "metadata": {
    "colab": {
     "base_uri": "https://localhost:8080/",
     "height": 800
    },
    "id": "ce059176-fe40-4705-afe5-4021185cba2b",
    "outputId": "5734498b-9e2a-4af3-ec15-7f0c6ff1b25e"
   },
   "outputs": [
    {
     "data": {
      "text/html": [
       "<div>\n",
       "<style scoped>\n",
       "    .dataframe tbody tr th:only-of-type {\n",
       "        vertical-align: middle;\n",
       "    }\n",
       "\n",
       "    .dataframe tbody tr th {\n",
       "        vertical-align: top;\n",
       "    }\n",
       "\n",
       "    .dataframe thead th {\n",
       "        text-align: right;\n",
       "    }\n",
       "</style>\n",
       "<table border=\"1\" class=\"dataframe\">\n",
       "  <thead>\n",
       "    <tr style=\"text-align: right;\">\n",
       "      <th></th>\n",
       "      <th>ORIGIN</th>\n",
       "      <th>SECTOR</th>\n",
       "      <th>TREATMENT_LOCATION</th>\n",
       "      <th>SEX</th>\n",
       "      <th>BIRTHPLACE_LOCATION</th>\n",
       "      <th>PATIENT_LOCATION</th>\n",
       "      <th>MUNICIPALITY</th>\n",
       "      <th>HOSPITALIZED</th>\n",
       "      <th>ADMISSION DATE</th>\n",
       "      <th>DATE_OF_FIRST_SYMPTOM</th>\n",
       "      <th>...</th>\n",
       "      <th>OTHER_DISEASE</th>\n",
       "      <th>CARDIOVASCULAR</th>\n",
       "      <th>OBESITY</th>\n",
       "      <th>CHRONIC_KIDNEY</th>\n",
       "      <th>TOBACCO</th>\n",
       "      <th>ANOTHER CASE</th>\n",
       "      <th>OUTCOME</th>\n",
       "      <th>MIGRANT</th>\n",
       "      <th>COUNTRY OF ORIGIN</th>\n",
       "      <th>ICU</th>\n",
       "    </tr>\n",
       "  </thead>\n",
       "  <tbody>\n",
       "    <tr>\n",
       "      <th>0</th>\n",
       "      <td>OUTSIDE USMER</td>\n",
       "      <td>STATE</td>\n",
       "      <td>2</td>\n",
       "      <td>Female</td>\n",
       "      <td>2</td>\n",
       "      <td>2</td>\n",
       "      <td>4</td>\n",
       "      <td>NO</td>\n",
       "      <td>2020-04-22</td>\n",
       "      <td>2020-04-18</td>\n",
       "      <td>...</td>\n",
       "      <td>NO</td>\n",
       "      <td>NO</td>\n",
       "      <td>NO</td>\n",
       "      <td>NO</td>\n",
       "      <td>NO</td>\n",
       "      <td>YES</td>\n",
       "      <td>POSITIVE</td>\n",
       "      <td>UNKNOWN</td>\n",
       "      <td>99</td>\n",
       "      <td>DOES NOT APPLY</td>\n",
       "    </tr>\n",
       "    <tr>\n",
       "      <th>1</th>\n",
       "      <td>OUTSIDE USMER</td>\n",
       "      <td>STATE</td>\n",
       "      <td>15</td>\n",
       "      <td>Male</td>\n",
       "      <td>15</td>\n",
       "      <td>15</td>\n",
       "      <td>33</td>\n",
       "      <td>YES</td>\n",
       "      <td>2020-05-18</td>\n",
       "      <td>2020-05-15</td>\n",
       "      <td>...</td>\n",
       "      <td>NO</td>\n",
       "      <td>NO</td>\n",
       "      <td>NO</td>\n",
       "      <td>YES</td>\n",
       "      <td>NO</td>\n",
       "      <td>NO</td>\n",
       "      <td>POSITIVE</td>\n",
       "      <td>UNKNOWN</td>\n",
       "      <td>99</td>\n",
       "      <td>NO</td>\n",
       "    </tr>\n",
       "    <tr>\n",
       "      <th>2</th>\n",
       "      <td>OUTSIDE USMER</td>\n",
       "      <td>STATE</td>\n",
       "      <td>2</td>\n",
       "      <td>Female</td>\n",
       "      <td>2</td>\n",
       "      <td>2</td>\n",
       "      <td>2</td>\n",
       "      <td>NO</td>\n",
       "      <td>2020-05-22</td>\n",
       "      <td>2020-05-19</td>\n",
       "      <td>...</td>\n",
       "      <td>NO</td>\n",
       "      <td>NO</td>\n",
       "      <td>YES</td>\n",
       "      <td>NO</td>\n",
       "      <td>NO</td>\n",
       "      <td>YES</td>\n",
       "      <td>POSITIVE</td>\n",
       "      <td>UNKNOWN</td>\n",
       "      <td>99</td>\n",
       "      <td>DOES NOT APPLY</td>\n",
       "    </tr>\n",
       "    <tr>\n",
       "      <th>3</th>\n",
       "      <td>OUTSIDE USMER</td>\n",
       "      <td>STATE</td>\n",
       "      <td>15</td>\n",
       "      <td>Male</td>\n",
       "      <td>9</td>\n",
       "      <td>15</td>\n",
       "      <td>87</td>\n",
       "      <td>NO</td>\n",
       "      <td>2020-06-05</td>\n",
       "      <td>2020-06-04</td>\n",
       "      <td>...</td>\n",
       "      <td>NO</td>\n",
       "      <td>NO</td>\n",
       "      <td>NO</td>\n",
       "      <td>NO</td>\n",
       "      <td>YES</td>\n",
       "      <td>YES</td>\n",
       "      <td>POSITIVE</td>\n",
       "      <td>UNKNOWN</td>\n",
       "      <td>99</td>\n",
       "      <td>DOES NOT APPLY</td>\n",
       "    </tr>\n",
       "    <tr>\n",
       "      <th>4</th>\n",
       "      <td>OUTSIDE USMER</td>\n",
       "      <td>IMSS</td>\n",
       "      <td>25</td>\n",
       "      <td>Male</td>\n",
       "      <td>25</td>\n",
       "      <td>25</td>\n",
       "      <td>6</td>\n",
       "      <td>NO</td>\n",
       "      <td>2020-04-22</td>\n",
       "      <td>2020-04-18</td>\n",
       "      <td>...</td>\n",
       "      <td>NO</td>\n",
       "      <td>NO</td>\n",
       "      <td>NO</td>\n",
       "      <td>NO</td>\n",
       "      <td>NO</td>\n",
       "      <td>UNKNOWN</td>\n",
       "      <td>POSITIVE</td>\n",
       "      <td>UNKNOWN</td>\n",
       "      <td>99</td>\n",
       "      <td>DOES NOT APPLY</td>\n",
       "    </tr>\n",
       "    <tr>\n",
       "      <th>...</th>\n",
       "      <td>...</td>\n",
       "      <td>...</td>\n",
       "      <td>...</td>\n",
       "      <td>...</td>\n",
       "      <td>...</td>\n",
       "      <td>...</td>\n",
       "      <td>...</td>\n",
       "      <td>...</td>\n",
       "      <td>...</td>\n",
       "      <td>...</td>\n",
       "      <td>...</td>\n",
       "      <td>...</td>\n",
       "      <td>...</td>\n",
       "      <td>...</td>\n",
       "      <td>...</td>\n",
       "      <td>...</td>\n",
       "      <td>...</td>\n",
       "      <td>...</td>\n",
       "      <td>...</td>\n",
       "      <td>...</td>\n",
       "      <td>...</td>\n",
       "    </tr>\n",
       "    <tr>\n",
       "      <th>159788</th>\n",
       "      <td>USMER</td>\n",
       "      <td>SSA</td>\n",
       "      <td>25</td>\n",
       "      <td>Male</td>\n",
       "      <td>25</td>\n",
       "      <td>25</td>\n",
       "      <td>9</td>\n",
       "      <td>NO</td>\n",
       "      <td>2020-06-02</td>\n",
       "      <td>2020-05-23</td>\n",
       "      <td>...</td>\n",
       "      <td>NO</td>\n",
       "      <td>NO</td>\n",
       "      <td>NO</td>\n",
       "      <td>NO</td>\n",
       "      <td>NO</td>\n",
       "      <td>UNKNOWN</td>\n",
       "      <td>POSITIVE</td>\n",
       "      <td>UNKNOWN</td>\n",
       "      <td>99</td>\n",
       "      <td>DOES NOT APPLY</td>\n",
       "    </tr>\n",
       "    <tr>\n",
       "      <th>159789</th>\n",
       "      <td>USMER</td>\n",
       "      <td>SSA</td>\n",
       "      <td>22</td>\n",
       "      <td>Female</td>\n",
       "      <td>22</td>\n",
       "      <td>22</td>\n",
       "      <td>12</td>\n",
       "      <td>YES</td>\n",
       "      <td>2020-06-04</td>\n",
       "      <td>2020-06-02</td>\n",
       "      <td>...</td>\n",
       "      <td>NO</td>\n",
       "      <td>NO</td>\n",
       "      <td>NO</td>\n",
       "      <td>NO</td>\n",
       "      <td>NO</td>\n",
       "      <td>NO</td>\n",
       "      <td>POSITIVE</td>\n",
       "      <td>UNKNOWN</td>\n",
       "      <td>99</td>\n",
       "      <td>NO</td>\n",
       "    </tr>\n",
       "    <tr>\n",
       "      <th>159790</th>\n",
       "      <td>OUTSIDE USMER</td>\n",
       "      <td>SSA</td>\n",
       "      <td>12</td>\n",
       "      <td>Male</td>\n",
       "      <td>12</td>\n",
       "      <td>12</td>\n",
       "      <td>50</td>\n",
       "      <td>NO</td>\n",
       "      <td>2020-06-04</td>\n",
       "      <td>2020-06-03</td>\n",
       "      <td>...</td>\n",
       "      <td>NO</td>\n",
       "      <td>NO</td>\n",
       "      <td>YES</td>\n",
       "      <td>NO</td>\n",
       "      <td>NO</td>\n",
       "      <td>YES</td>\n",
       "      <td>POSITIVE</td>\n",
       "      <td>UNKNOWN</td>\n",
       "      <td>99</td>\n",
       "      <td>DOES NOT APPLY</td>\n",
       "    </tr>\n",
       "    <tr>\n",
       "      <th>159791</th>\n",
       "      <td>OUTSIDE USMER</td>\n",
       "      <td>IMSS</td>\n",
       "      <td>15</td>\n",
       "      <td>Male</td>\n",
       "      <td>15</td>\n",
       "      <td>15</td>\n",
       "      <td>39</td>\n",
       "      <td>NO</td>\n",
       "      <td>2020-06-04</td>\n",
       "      <td>2020-06-02</td>\n",
       "      <td>...</td>\n",
       "      <td>NO</td>\n",
       "      <td>NO</td>\n",
       "      <td>NO</td>\n",
       "      <td>NO</td>\n",
       "      <td>NO</td>\n",
       "      <td>UNKNOWN</td>\n",
       "      <td>POSITIVE</td>\n",
       "      <td>UNKNOWN</td>\n",
       "      <td>99</td>\n",
       "      <td>DOES NOT APPLY</td>\n",
       "    </tr>\n",
       "    <tr>\n",
       "      <th>159792</th>\n",
       "      <td>OUTSIDE USMER</td>\n",
       "      <td>SSA</td>\n",
       "      <td>8</td>\n",
       "      <td>Female</td>\n",
       "      <td>8</td>\n",
       "      <td>10</td>\n",
       "      <td>5</td>\n",
       "      <td>YES</td>\n",
       "      <td>2020-05-28</td>\n",
       "      <td>2020-05-28</td>\n",
       "      <td>...</td>\n",
       "      <td>YES</td>\n",
       "      <td>NO</td>\n",
       "      <td>YES</td>\n",
       "      <td>NO</td>\n",
       "      <td>YES</td>\n",
       "      <td>YES</td>\n",
       "      <td>POSITIVE</td>\n",
       "      <td>UNKNOWN</td>\n",
       "      <td>99</td>\n",
       "      <td>NO</td>\n",
       "    </tr>\n",
       "  </tbody>\n",
       "</table>\n",
       "<p>159793 rows × 32 columns</p>\n",
       "</div>"
      ],
      "text/plain": [
       "               ORIGIN SECTOR  TREATMENT_LOCATION      SEX  \\\n",
       "0       OUTSIDE USMER  STATE                   2   Female   \n",
       "1       OUTSIDE USMER  STATE                  15     Male   \n",
       "2       OUTSIDE USMER  STATE                   2   Female   \n",
       "3       OUTSIDE USMER  STATE                  15     Male   \n",
       "4       OUTSIDE USMER   IMSS                  25     Male   \n",
       "...               ...    ...                 ...      ...   \n",
       "159788          USMER    SSA                  25     Male   \n",
       "159789          USMER    SSA                  22   Female   \n",
       "159790  OUTSIDE USMER    SSA                  12     Male   \n",
       "159791  OUTSIDE USMER   IMSS                  15     Male   \n",
       "159792  OUTSIDE USMER    SSA                   8   Female   \n",
       "\n",
       "        BIRTHPLACE_LOCATION  PATIENT_LOCATION  MUNICIPALITY HOSPITALIZED  \\\n",
       "0                         2                 2             4           NO   \n",
       "1                        15                15            33          YES   \n",
       "2                         2                 2             2           NO   \n",
       "3                         9                15            87           NO   \n",
       "4                        25                25             6           NO   \n",
       "...                     ...               ...           ...          ...   \n",
       "159788                   25                25             9           NO   \n",
       "159789                   22                22            12          YES   \n",
       "159790                   12                12            50           NO   \n",
       "159791                   15                15            39           NO   \n",
       "159792                    8                10             5          YES   \n",
       "\n",
       "       ADMISSION DATE DATE_OF_FIRST_SYMPTOM  ... OTHER_DISEASE CARDIOVASCULAR  \\\n",
       "0          2020-04-22            2020-04-18  ...            NO             NO   \n",
       "1          2020-05-18            2020-05-15  ...            NO             NO   \n",
       "2          2020-05-22            2020-05-19  ...            NO             NO   \n",
       "3          2020-06-05            2020-06-04  ...            NO             NO   \n",
       "4          2020-04-22            2020-04-18  ...            NO             NO   \n",
       "...               ...                   ...  ...           ...            ...   \n",
       "159788     2020-06-02            2020-05-23  ...            NO             NO   \n",
       "159789     2020-06-04            2020-06-02  ...            NO             NO   \n",
       "159790     2020-06-04            2020-06-03  ...            NO             NO   \n",
       "159791     2020-06-04            2020-06-02  ...            NO             NO   \n",
       "159792     2020-05-28            2020-05-28  ...           YES             NO   \n",
       "\n",
       "       OBESITY  CHRONIC_KIDNEY TOBACCO ANOTHER CASE   OUTCOME  MIGRANT  \\\n",
       "0           NO              NO      NO          YES  POSITIVE  UNKNOWN   \n",
       "1           NO             YES      NO           NO  POSITIVE  UNKNOWN   \n",
       "2          YES              NO      NO          YES  POSITIVE  UNKNOWN   \n",
       "3           NO              NO     YES          YES  POSITIVE  UNKNOWN   \n",
       "4           NO              NO      NO      UNKNOWN  POSITIVE  UNKNOWN   \n",
       "...        ...             ...     ...          ...       ...      ...   \n",
       "159788      NO              NO      NO      UNKNOWN  POSITIVE  UNKNOWN   \n",
       "159789      NO              NO      NO           NO  POSITIVE  UNKNOWN   \n",
       "159790     YES              NO      NO          YES  POSITIVE  UNKNOWN   \n",
       "159791      NO              NO      NO      UNKNOWN  POSITIVE  UNKNOWN   \n",
       "159792     YES              NO     YES          YES  POSITIVE  UNKNOWN   \n",
       "\n",
       "       COUNTRY OF ORIGIN             ICU  \n",
       "0                     99  DOES NOT APPLY  \n",
       "1                     99              NO  \n",
       "2                     99  DOES NOT APPLY  \n",
       "3                     99  DOES NOT APPLY  \n",
       "4                     99  DOES NOT APPLY  \n",
       "...                  ...             ...  \n",
       "159788                99  DOES NOT APPLY  \n",
       "159789                99              NO  \n",
       "159790                99  DOES NOT APPLY  \n",
       "159791                99  DOES NOT APPLY  \n",
       "159792                99              NO  \n",
       "\n",
       "[159793 rows x 32 columns]"
      ]
     },
     "execution_count": 20,
     "metadata": {},
     "output_type": "execute_result"
    }
   ],
   "source": [
    "df1 = dataframe.copy()\n",
    "df1"
   ]
  },
  {
   "cell_type": "code",
   "execution_count": 21,
   "id": "f3b3fa23-f6cc-49e2-b303-a7b753cdd98d",
   "metadata": {
    "id": "f3b3fa23-f6cc-49e2-b303-a7b753cdd98d"
   },
   "outputs": [],
   "source": [
    "filter = (df1['ICU'].str.contains('UNKNOWN') | df1['ICU'].str.contains('DOES NOT APPLY'))\n",
    "df1.drop(df1.index[filter], inplace=True)"
   ]
  },
  {
   "cell_type": "code",
   "execution_count": 22,
   "id": "6a498498-72bc-4805-abf4-729cb4f6672a",
   "metadata": {
    "id": "6a498498-72bc-4805-abf4-729cb4f6672a"
   },
   "outputs": [],
   "source": [
    "df1['ICU'] = np.where(df1['ICU'] == 'YES', '1', df1['ICU'])\n",
    "df1['ICU'] = np.where(df1['ICU'] == 'NO', '0', df1['ICU'])\n",
    "df1['ICU'] = df1['ICU'].astype(str).astype(int)"
   ]
  },
  {
   "cell_type": "code",
   "execution_count": 45,
   "id": "6b5a63a8-cb38-4e46-ac89-e12d51a36882",
   "metadata": {
    "colab": {
     "base_uri": "https://localhost:8080/"
    },
    "id": "6b5a63a8-cb38-4e46-ac89-e12d51a36882",
    "outputId": "fdd8beac-3f32-4a28-bc66-6ce2b64103a2"
   },
   "outputs": [
    {
     "data": {
      "text/plain": [
       "ORIGIN                    object\n",
       "SECTOR                    object\n",
       "TREATMENT_LOCATION         int64\n",
       "SEX                       object\n",
       "BIRTHPLACE_LOCATION        int64\n",
       "PATIENT_LOCATION           int64\n",
       "MUNICIPALITY               int64\n",
       "HOSPITALIZED              object\n",
       "ADMISSION DATE            object\n",
       "DATE_OF_FIRST_SYMPTOM     object\n",
       "DATE_OF_DEATH             object\n",
       "INTUBATED                 object\n",
       "PNEUMONIA                 object\n",
       "AGE                        int64\n",
       "NATIONALITY               object\n",
       "PREGNANCY                 object\n",
       "SPEAKS_NATIVE_LANGUAGE    object\n",
       "DIABETES                  object\n",
       "COPD                      object\n",
       "ASTHMA                    object\n",
       "INMUSUPR                  object\n",
       "HYPERTENSION              object\n",
       "OTHER_DISEASE             object\n",
       "CARDIOVASCULAR            object\n",
       "OBESITY                   object\n",
       "CHRONIC_KIDNEY            object\n",
       "TOBACCO                   object\n",
       "ANOTHER CASE              object\n",
       "OUTCOME                   object\n",
       "MIGRANT                   object\n",
       "COUNTRY OF ORIGIN         object\n",
       "ICU                        int64\n",
       "dtype: object"
      ]
     },
     "execution_count": 45,
     "metadata": {},
     "output_type": "execute_result"
    }
   ],
   "source": [
    "df1.dtypes"
   ]
  },
  {
   "cell_type": "code",
   "execution_count": 23,
   "id": "77075102-78c4-4e49-9554-30872b372f7a",
   "metadata": {
    "colab": {
     "base_uri": "https://localhost:8080/"
    },
    "id": "77075102-78c4-4e49-9554-30872b372f7a",
    "outputId": "97d7b73b-5c21-4245-d8f6-3fcb86231bd6"
   },
   "outputs": [
    {
     "data": {
      "text/plain": [
       "0    46510\n",
       "1     4654\n",
       "Name: ICU, dtype: int64"
      ]
     },
     "execution_count": 23,
     "metadata": {},
     "output_type": "execute_result"
    }
   ],
   "source": [
    "df1['ICU'].value_counts()"
   ]
  },
  {
   "cell_type": "code",
   "execution_count": 24,
   "id": "60b0f3bf-9b05-4962-8264-94cfc0a2b90b",
   "metadata": {
    "colab": {
     "base_uri": "https://localhost:8080/"
    },
    "id": "60b0f3bf-9b05-4962-8264-94cfc0a2b90b",
    "outputId": "18e65e9b-1743-4e6f-924a-9d3cc80e3e07"
   },
   "outputs": [
    {
     "data": {
      "text/plain": [
       "(51164, 32)"
      ]
     },
     "execution_count": 24,
     "metadata": {},
     "output_type": "execute_result"
    }
   ],
   "source": [
    "df1.shape"
   ]
  },
  {
   "cell_type": "code",
   "execution_count": 25,
   "id": "5f525486-23b6-4ded-aafa-7b2dc4be76c2",
   "metadata": {},
   "outputs": [],
   "source": [
    "def split_date(df1):\n",
    "    return df1.join(\n",
    "        df1['ADMISSION DATE']\n",
    "        # Split date\n",
    "        .str.split('-', expand=True)\n",
    "        .rename(columns={0: 'ADMISSION_YEAR', 1: 'ADMISSION_MONTH', 2: 'ADMISSION_DATE'})\n",
    "    )\n",
    "\n",
    "df1 = df1.pipe(split_date)"
   ]
  },
  {
   "cell_type": "code",
   "execution_count": 49,
   "id": "ce814120-0b94-4493-a399-2e29685c6881",
   "metadata": {
    "colab": {
     "base_uri": "https://localhost:8080/"
    },
    "id": "ce814120-0b94-4493-a399-2e29685c6881",
    "outputId": "e592d04e-5842-42a5-c7a4-a0d2d8f71658"
   },
   "outputs": [
    {
     "data": {
      "text/plain": [
       "(51164, 29)"
      ]
     },
     "execution_count": 49,
     "metadata": {},
     "output_type": "execute_result"
    }
   ],
   "source": [
    "df1.drop(['ADMISSION DATE', 'BIRTHPLACE_LOCATION', 'DATE_OF_FIRST_SYMPTOM', 'DATE_OF_DEATH', 'MUNICIPALITY', 'COUNTRY OF ORIGIN'], axis=1, inplace=True)\n",
    "df1.shape"
   ]
  },
  {
   "cell_type": "code",
   "execution_count": 26,
   "id": "fa46dc1c-b9dd-4fab-b4a1-6d50d86db0b7",
   "metadata": {},
   "outputs": [],
   "source": [
    "df1['ADMISSION_YEAR'] = df1['ADMISSION_YEAR'].astype(str).astype(int)\n",
    "df1['ADMISSION_MONTH'] = df1['ADMISSION_MONTH'].astype(str).astype(int)\n",
    "df1['ADMISSION_DATE'] = df1['ADMISSION_DATE'].astype(str).astype(int)"
   ]
  },
  {
   "cell_type": "code",
   "execution_count": 51,
   "id": "acf26bf2-2228-4404-a432-90dbf962d388",
   "metadata": {},
   "outputs": [
    {
     "data": {
      "text/plain": [
       "ORIGIN                    object\n",
       "SECTOR                    object\n",
       "TREATMENT_LOCATION         int64\n",
       "SEX                       object\n",
       "PATIENT_LOCATION           int64\n",
       "HOSPITALIZED              object\n",
       "INTUBATED                 object\n",
       "PNEUMONIA                 object\n",
       "AGE                        int64\n",
       "NATIONALITY               object\n",
       "PREGNANCY                 object\n",
       "SPEAKS_NATIVE_LANGUAGE    object\n",
       "DIABETES                  object\n",
       "COPD                      object\n",
       "ASTHMA                    object\n",
       "INMUSUPR                  object\n",
       "HYPERTENSION              object\n",
       "OTHER_DISEASE             object\n",
       "CARDIOVASCULAR            object\n",
       "OBESITY                   object\n",
       "CHRONIC_KIDNEY            object\n",
       "TOBACCO                   object\n",
       "ANOTHER CASE              object\n",
       "OUTCOME                   object\n",
       "MIGRANT                   object\n",
       "ICU                        int64\n",
       "ADMISSION_YEAR             int64\n",
       "ADMISSION_MONTH            int64\n",
       "ADMISSION_DATE             int64\n",
       "dtype: object"
      ]
     },
     "execution_count": 51,
     "metadata": {},
     "output_type": "execute_result"
    }
   ],
   "source": [
    "df1.dtypes"
   ]
  },
  {
   "cell_type": "code",
   "execution_count": 27,
   "id": "dd5b0f93-eb89-482d-b996-2669c007343e",
   "metadata": {
    "colab": {
     "base_uri": "https://localhost:8080/",
     "height": 334
    },
    "id": "dd5b0f93-eb89-482d-b996-2669c007343e",
    "outputId": "d5cf6026-1734-4c5d-b52b-09d19e778ccb"
   },
   "outputs": [
    {
     "data": {
      "text/html": [
       "<div>\n",
       "<style scoped>\n",
       "    .dataframe tbody tr th:only-of-type {\n",
       "        vertical-align: middle;\n",
       "    }\n",
       "\n",
       "    .dataframe tbody tr th {\n",
       "        vertical-align: top;\n",
       "    }\n",
       "\n",
       "    .dataframe thead th {\n",
       "        text-align: right;\n",
       "    }\n",
       "</style>\n",
       "<table border=\"1\" class=\"dataframe\">\n",
       "  <thead>\n",
       "    <tr style=\"text-align: right;\">\n",
       "      <th></th>\n",
       "      <th>TREATMENT_LOCATION</th>\n",
       "      <th>BIRTHPLACE_LOCATION</th>\n",
       "      <th>PATIENT_LOCATION</th>\n",
       "      <th>MUNICIPALITY</th>\n",
       "      <th>AGE</th>\n",
       "      <th>ICU</th>\n",
       "      <th>ADMISSION_YEAR</th>\n",
       "      <th>ADMISSION_MONTH</th>\n",
       "      <th>ADMISSION_DATE</th>\n",
       "      <th>ORIGIN_OUTSIDE USMER</th>\n",
       "      <th>...</th>\n",
       "      <th>COUNTRY OF ORIGIN_Cuba</th>\n",
       "      <th>COUNTRY OF ORIGIN_Egipto</th>\n",
       "      <th>COUNTRY OF ORIGIN_El Salvador</th>\n",
       "      <th>COUNTRY OF ORIGIN_Estados Unidos de América</th>\n",
       "      <th>COUNTRY OF ORIGIN_Ghana</th>\n",
       "      <th>COUNTRY OF ORIGIN_Grecia</th>\n",
       "      <th>COUNTRY OF ORIGIN_Guatemala</th>\n",
       "      <th>COUNTRY OF ORIGIN_Haití</th>\n",
       "      <th>COUNTRY OF ORIGIN_Otro</th>\n",
       "      <th>COUNTRY OF ORIGIN_República de Honduras</th>\n",
       "    </tr>\n",
       "  </thead>\n",
       "  <tbody>\n",
       "    <tr>\n",
       "      <th>1</th>\n",
       "      <td>15</td>\n",
       "      <td>15</td>\n",
       "      <td>15</td>\n",
       "      <td>33</td>\n",
       "      <td>35</td>\n",
       "      <td>0</td>\n",
       "      <td>2020</td>\n",
       "      <td>5</td>\n",
       "      <td>18</td>\n",
       "      <td>1</td>\n",
       "      <td>...</td>\n",
       "      <td>0</td>\n",
       "      <td>0</td>\n",
       "      <td>0</td>\n",
       "      <td>0</td>\n",
       "      <td>0</td>\n",
       "      <td>0</td>\n",
       "      <td>0</td>\n",
       "      <td>0</td>\n",
       "      <td>0</td>\n",
       "      <td>0</td>\n",
       "    </tr>\n",
       "    <tr>\n",
       "      <th>5</th>\n",
       "      <td>15</td>\n",
       "      <td>15</td>\n",
       "      <td>15</td>\n",
       "      <td>99</td>\n",
       "      <td>79</td>\n",
       "      <td>0</td>\n",
       "      <td>2020</td>\n",
       "      <td>4</td>\n",
       "      <td>18</td>\n",
       "      <td>1</td>\n",
       "      <td>...</td>\n",
       "      <td>0</td>\n",
       "      <td>0</td>\n",
       "      <td>0</td>\n",
       "      <td>0</td>\n",
       "      <td>0</td>\n",
       "      <td>0</td>\n",
       "      <td>0</td>\n",
       "      <td>0</td>\n",
       "      <td>0</td>\n",
       "      <td>0</td>\n",
       "    </tr>\n",
       "    <tr>\n",
       "      <th>6</th>\n",
       "      <td>15</td>\n",
       "      <td>9</td>\n",
       "      <td>15</td>\n",
       "      <td>20</td>\n",
       "      <td>55</td>\n",
       "      <td>0</td>\n",
       "      <td>2020</td>\n",
       "      <td>5</td>\n",
       "      <td>5</td>\n",
       "      <td>1</td>\n",
       "      <td>...</td>\n",
       "      <td>0</td>\n",
       "      <td>0</td>\n",
       "      <td>0</td>\n",
       "      <td>0</td>\n",
       "      <td>0</td>\n",
       "      <td>0</td>\n",
       "      <td>0</td>\n",
       "      <td>0</td>\n",
       "      <td>0</td>\n",
       "      <td>0</td>\n",
       "    </tr>\n",
       "    <tr>\n",
       "      <th>7</th>\n",
       "      <td>15</td>\n",
       "      <td>15</td>\n",
       "      <td>15</td>\n",
       "      <td>19</td>\n",
       "      <td>66</td>\n",
       "      <td>0</td>\n",
       "      <td>2020</td>\n",
       "      <td>5</td>\n",
       "      <td>8</td>\n",
       "      <td>1</td>\n",
       "      <td>...</td>\n",
       "      <td>0</td>\n",
       "      <td>0</td>\n",
       "      <td>0</td>\n",
       "      <td>0</td>\n",
       "      <td>0</td>\n",
       "      <td>0</td>\n",
       "      <td>0</td>\n",
       "      <td>0</td>\n",
       "      <td>0</td>\n",
       "      <td>0</td>\n",
       "    </tr>\n",
       "    <tr>\n",
       "      <th>14</th>\n",
       "      <td>15</td>\n",
       "      <td>15</td>\n",
       "      <td>15</td>\n",
       "      <td>106</td>\n",
       "      <td>43</td>\n",
       "      <td>0</td>\n",
       "      <td>2020</td>\n",
       "      <td>6</td>\n",
       "      <td>4</td>\n",
       "      <td>1</td>\n",
       "      <td>...</td>\n",
       "      <td>0</td>\n",
       "      <td>0</td>\n",
       "      <td>0</td>\n",
       "      <td>0</td>\n",
       "      <td>0</td>\n",
       "      <td>0</td>\n",
       "      <td>0</td>\n",
       "      <td>0</td>\n",
       "      <td>0</td>\n",
       "      <td>0</td>\n",
       "    </tr>\n",
       "  </tbody>\n",
       "</table>\n",
       "<p>5 rows × 400 columns</p>\n",
       "</div>"
      ],
      "text/plain": [
       "    TREATMENT_LOCATION  BIRTHPLACE_LOCATION  PATIENT_LOCATION  MUNICIPALITY  \\\n",
       "1                   15                   15                15            33   \n",
       "5                   15                   15                15            99   \n",
       "6                   15                    9                15            20   \n",
       "7                   15                   15                15            19   \n",
       "14                  15                   15                15           106   \n",
       "\n",
       "    AGE  ICU  ADMISSION_YEAR  ADMISSION_MONTH  ADMISSION_DATE  \\\n",
       "1    35    0            2020                5              18   \n",
       "5    79    0            2020                4              18   \n",
       "6    55    0            2020                5               5   \n",
       "7    66    0            2020                5               8   \n",
       "14   43    0            2020                6               4   \n",
       "\n",
       "    ORIGIN_OUTSIDE USMER  ...  COUNTRY OF ORIGIN_Cuba  \\\n",
       "1                      1  ...                       0   \n",
       "5                      1  ...                       0   \n",
       "6                      1  ...                       0   \n",
       "7                      1  ...                       0   \n",
       "14                     1  ...                       0   \n",
       "\n",
       "    COUNTRY OF ORIGIN_Egipto  COUNTRY OF ORIGIN_El Salvador  \\\n",
       "1                          0                              0   \n",
       "5                          0                              0   \n",
       "6                          0                              0   \n",
       "7                          0                              0   \n",
       "14                         0                              0   \n",
       "\n",
       "    COUNTRY OF ORIGIN_Estados Unidos de América  COUNTRY OF ORIGIN_Ghana  \\\n",
       "1                                             0                        0   \n",
       "5                                             0                        0   \n",
       "6                                             0                        0   \n",
       "7                                             0                        0   \n",
       "14                                            0                        0   \n",
       "\n",
       "    COUNTRY OF ORIGIN_Grecia  COUNTRY OF ORIGIN_Guatemala  \\\n",
       "1                          0                            0   \n",
       "5                          0                            0   \n",
       "6                          0                            0   \n",
       "7                          0                            0   \n",
       "14                         0                            0   \n",
       "\n",
       "    COUNTRY OF ORIGIN_Haití  COUNTRY OF ORIGIN_Otro  \\\n",
       "1                         0                       0   \n",
       "5                         0                       0   \n",
       "6                         0                       0   \n",
       "7                         0                       0   \n",
       "14                        0                       0   \n",
       "\n",
       "    COUNTRY OF ORIGIN_República de Honduras  \n",
       "1                                         0  \n",
       "5                                         0  \n",
       "6                                         0  \n",
       "7                                         0  \n",
       "14                                        0  \n",
       "\n",
       "[5 rows x 400 columns]"
      ]
     },
     "execution_count": 27,
     "metadata": {},
     "output_type": "execute_result"
    }
   ],
   "source": [
    "col_list = [col for col in df1.columns.tolist() if df1[col].dtype.name == \"object\"]\n",
    "df_oh = df1[col_list]\n",
    "df1 = df1.drop(col_list, 1)\n",
    "df_oh = pd.get_dummies(df_oh)\n",
    "df1 = pd.concat([df1, df_oh], axis=1)\n",
    "df1.head()"
   ]
  },
  {
   "cell_type": "code",
   "execution_count": 28,
   "id": "e4988bad-df40-4f67-a54f-4be1a6f2df2f",
   "metadata": {
    "id": "e4988bad-df40-4f67-a54f-4be1a6f2df2f"
   },
   "outputs": [],
   "source": [
    "y = df1.ICU\n",
    "X = df1.drop(\"ICU\", 1)\n",
    "colnames = X.columns\n",
    "pd.DataFrame.to_csv(df1, 'cleaned.csv')"
   ]
  },
  {
   "cell_type": "markdown",
   "id": "28d1241b-d4d1-41d8-92f9-14558e19d662",
   "metadata": {
    "id": "28d1241b-d4d1-41d8-92f9-14558e19d662",
    "tags": []
   },
   "source": [
    "### Question 8"
   ]
  },
  {
   "cell_type": "code",
   "execution_count": 38,
   "id": "d031a1c8-f8e0-4dfe-b30b-3a636b13d37d",
   "metadata": {
    "colab": {
     "base_uri": "https://localhost:8080/"
    },
    "id": "d031a1c8-f8e0-4dfe-b30b-3a636b13d37d",
    "outputId": "78d4df09-940a-4310-eca3-9703ede168da"
   },
   "outputs": [
    {
     "name": "stdout",
     "output_type": "stream",
     "text": [
      "Iteration: \t1 / 100\n",
      "Confirmed: \t0\n",
      "Tentative: \t399\n",
      "Rejected: \t0\n",
      "Iteration: \t2 / 100\n",
      "Confirmed: \t0\n",
      "Tentative: \t399\n",
      "Rejected: \t0\n",
      "Iteration: \t3 / 100\n",
      "Confirmed: \t0\n",
      "Tentative: \t399\n",
      "Rejected: \t0\n",
      "Iteration: \t4 / 100\n",
      "Confirmed: \t0\n",
      "Tentative: \t399\n",
      "Rejected: \t0\n",
      "Iteration: \t5 / 100\n",
      "Confirmed: \t0\n",
      "Tentative: \t399\n",
      "Rejected: \t0\n",
      "Iteration: \t6 / 100\n",
      "Confirmed: \t0\n",
      "Tentative: \t399\n",
      "Rejected: \t0\n",
      "Iteration: \t7 / 100\n",
      "Confirmed: \t0\n",
      "Tentative: \t399\n",
      "Rejected: \t0\n",
      "Iteration: \t8 / 100\n",
      "Confirmed: \t0\n",
      "Tentative: \t26\n",
      "Rejected: \t373\n",
      "Iteration: \t9 / 100\n",
      "Confirmed: \t17\n",
      "Tentative: \t9\n",
      "Rejected: \t373\n",
      "Iteration: \t10 / 100\n",
      "Confirmed: \t17\n",
      "Tentative: \t9\n",
      "Rejected: \t373\n",
      "Iteration: \t11 / 100\n",
      "Confirmed: \t17\n",
      "Tentative: \t9\n",
      "Rejected: \t373\n",
      "Iteration: \t12 / 100\n",
      "Confirmed: \t17\n",
      "Tentative: \t6\n",
      "Rejected: \t376\n",
      "Iteration: \t13 / 100\n",
      "Confirmed: \t17\n",
      "Tentative: \t6\n",
      "Rejected: \t376\n",
      "Iteration: \t14 / 100\n",
      "Confirmed: \t17\n",
      "Tentative: \t6\n",
      "Rejected: \t376\n",
      "Iteration: \t15 / 100\n",
      "Confirmed: \t17\n",
      "Tentative: \t6\n",
      "Rejected: \t376\n",
      "Iteration: \t16 / 100\n",
      "Confirmed: \t17\n",
      "Tentative: \t5\n",
      "Rejected: \t377\n",
      "Iteration: \t17 / 100\n",
      "Confirmed: \t17\n",
      "Tentative: \t5\n",
      "Rejected: \t377\n",
      "Iteration: \t18 / 100\n",
      "Confirmed: \t17\n",
      "Tentative: \t5\n",
      "Rejected: \t377\n",
      "Iteration: \t19 / 100\n",
      "Confirmed: \t17\n",
      "Tentative: \t4\n",
      "Rejected: \t378\n",
      "Iteration: \t20 / 100\n",
      "Confirmed: \t17\n",
      "Tentative: \t4\n",
      "Rejected: \t378\n",
      "Iteration: \t21 / 100\n",
      "Confirmed: \t17\n",
      "Tentative: \t4\n",
      "Rejected: \t378\n",
      "Iteration: \t22 / 100\n",
      "Confirmed: \t17\n",
      "Tentative: \t4\n",
      "Rejected: \t378\n",
      "Iteration: \t23 / 100\n",
      "Confirmed: \t17\n",
      "Tentative: \t4\n",
      "Rejected: \t378\n",
      "Iteration: \t24 / 100\n",
      "Confirmed: \t17\n",
      "Tentative: \t4\n",
      "Rejected: \t378\n",
      "Iteration: \t25 / 100\n",
      "Confirmed: \t17\n",
      "Tentative: \t4\n",
      "Rejected: \t378\n",
      "Iteration: \t26 / 100\n",
      "Confirmed: \t17\n",
      "Tentative: \t3\n",
      "Rejected: \t379\n",
      "Iteration: \t27 / 100\n",
      "Confirmed: \t17\n",
      "Tentative: \t3\n",
      "Rejected: \t379\n",
      "Iteration: \t28 / 100\n",
      "Confirmed: \t17\n",
      "Tentative: \t3\n",
      "Rejected: \t379\n",
      "Iteration: \t29 / 100\n",
      "Confirmed: \t17\n",
      "Tentative: \t3\n",
      "Rejected: \t379\n",
      "Iteration: \t30 / 100\n",
      "Confirmed: \t17\n",
      "Tentative: \t3\n",
      "Rejected: \t379\n",
      "Iteration: \t31 / 100\n",
      "Confirmed: \t17\n",
      "Tentative: \t3\n",
      "Rejected: \t379\n",
      "Iteration: \t32 / 100\n",
      "Confirmed: \t18\n",
      "Tentative: \t2\n",
      "Rejected: \t379\n",
      "Iteration: \t33 / 100\n",
      "Confirmed: \t18\n",
      "Tentative: \t2\n",
      "Rejected: \t379\n",
      "Iteration: \t34 / 100\n",
      "Confirmed: \t18\n",
      "Tentative: \t0\n",
      "Rejected: \t381\n",
      "\n",
      "\n",
      "BorutaPy finished running.\n",
      "\n",
      "Iteration: \t35 / 100\n",
      "Confirmed: \t18\n",
      "Tentative: \t0\n",
      "Rejected: \t381\n"
     ]
    },
    {
     "data": {
      "text/plain": [
       "BorutaPy(estimator=RandomForestClassifier(max_depth=5, n_estimators=126,\n",
       "                                          random_state=RandomState(MT19937) at 0x7F1E52F8CB40),\n",
       "         n_estimators='auto',\n",
       "         random_state=RandomState(MT19937) at 0x7F1E52F8CB40, verbose=2)"
      ]
     },
     "execution_count": 38,
     "metadata": {},
     "output_type": "execute_result"
    }
   ],
   "source": [
    "from sklearn.model_selection import train_test_split\n",
    "from sklearn.metrics import accuracy_score \n",
    "\n",
    "\n",
    "X_train, X_test, y_train, y_test = train_test_split(X, y, test_size = .2, random_state = 1) \n",
    "\n",
    "rf = RandomForestClassifier(random_state=1, n_estimators=1000, max_depth=5)\n",
    "\n",
    "rf.fit(X_train, y_train)\n",
    "\n",
    "accuracy_score(y_test, rf.predict(X_test))\n",
    "\n",
    "boruta_selector = BorutaPy(rf, n_estimators='auto', verbose=2, random_state=1)\n",
    "boruta_selector.fit(np.array(X_train), np.array(y_train)) "
   ]
  },
  {
   "cell_type": "code",
   "execution_count": 39,
   "id": "d5a48b08-fe12-4e39-8368-62c1bcaeb320",
   "metadata": {
    "colab": {
     "base_uri": "https://localhost:8080/"
    },
    "id": "d5a48b08-fe12-4e39-8368-62c1bcaeb320",
    "outputId": "cdd60b43-e939-4ca4-cb6a-c45106f4abf2"
   },
   "outputs": [
    {
     "name": "stdout",
     "output_type": "stream",
     "text": [
      "Ranking:  [  1   1   1   1   1 366   1   5  16  12 229 366   1   1 240 102   7   1\n",
      " 366   5   1   1  24  10  13 366 155 366 366 366 366 150  43 303 349 366\n",
      " 320 366 297 328  87 310 315 123 110 345 327  85 269 203 244 157 221 128\n",
      " 184 323 318 240   6  25 210 152 125 178 131 137 274  96 231 133  92 226\n",
      " 175 160  37 255 146 212 240 192  77 281 182 224 164 306 283 149 159 220\n",
      " 251 199 222 311 106  82 264 214 249 108 312 216 275 288 277 301 290 305\n",
      " 142 226 261 303 270 211 291 219 218 246 153 169 148 137 139 176 143 271\n",
      " 308 325 332 345 366 366 366 366 111 170 366 366 366  98 294 117 264 159\n",
      " 284 215 293 309 278 117  21 337  62 335  94 233 171 336 190 257 201 307\n",
      " 115 123  31 144  58  20 257 240 175 272  91  77  48 208  81 331  66 230\n",
      " 120 210 185 184 102 104 107 121 260 242 112 192 265 187 224 218 262 286\n",
      " 203 167 130  27 151 163 281 274 196 323 194 267 254 300 253 207 313 303\n",
      " 281 234 268 299 189 104 244 276 237 186 207 258 148 237 192  73 228 100\n",
      " 189 293 248 321 341 338 339 320 233 366 342 366 366 118 366  35  37 349\n",
      " 316 247 345 157 335 299 199 340  84  32 141 178 251  18 296 195  35  54\n",
      " 199 315 100  28  69  29  89  63 125  41  39  44 173 155  65  11 179  47\n",
      "  18 203 134  61  79  26  75 182  51  50   3  10  83  78 161  89  72 172\n",
      "  42 109  74 317  72  59 146 246  80 125 326  95 127 114 167 251 259 165\n",
      " 167 235  15 333 330 267 329 288 295 349   1   1   1   1 141 137   8 281\n",
      "  15 285  23  19 213  30  22  33  52 120 180  41  57 132  47  93 135  65\n",
      "  56  53  45  67  70  55  68  86  38   2   2  49 105 113  61  89  97   1\n",
      "   1   1 366 197 205 290 325 366 129 366 366 366 366 349 226 366 162 345\n",
      " 366 366 366]\n",
      "No. of significant features:  18\n"
     ]
    }
   ],
   "source": [
    "print(\"Ranking: \",boruta_selector.ranking_)          \n",
    "print(\"No. of significant features: \", boruta_selector.n_features_) "
   ]
  },
  {
   "cell_type": "code",
   "execution_count": 40,
   "id": "44c4b22e-c718-42e9-8b92-704f22494e43",
   "metadata": {
    "id": "44c4b22e-c718-42e9-8b92-704f22494e43"
   },
   "outputs": [],
   "source": [
    "boruta_score = ranking(list(map(float, boruta_selector.ranking_)), colnames, order=-1)\n",
    "boruta_score = pd.DataFrame(list(boruta_score.items()), columns=['Features', 'Score'])\n",
    "boruta_score = boruta_score.sort_values(\"Score\", ascending = False)\n",
    "pd.DataFrame.to_csv(boruta_score, 'Boruta_Score.csv')"
   ]
  },
  {
   "cell_type": "code",
   "execution_count": 41,
   "id": "a7fab954-25ae-459f-834f-dfb182a4ea6b",
   "metadata": {
    "colab": {
     "base_uri": "https://localhost:8080/",
     "height": 694
    },
    "id": "a7fab954-25ae-459f-834f-dfb182a4ea6b",
    "outputId": "565cca2a-109e-4e17-ab77-c27be03eafbc"
   },
   "outputs": [
    {
     "name": "stdout",
     "output_type": "stream",
     "text": [
      "---------Top 20----------\n"
     ]
    },
    {
     "data": {
      "text/html": [
       "<div>\n",
       "<style scoped>\n",
       "    .dataframe tbody tr th:only-of-type {\n",
       "        vertical-align: middle;\n",
       "    }\n",
       "\n",
       "    .dataframe tbody tr th {\n",
       "        vertical-align: top;\n",
       "    }\n",
       "\n",
       "    .dataframe thead th {\n",
       "        text-align: right;\n",
       "    }\n",
       "</style>\n",
       "<table border=\"1\" class=\"dataframe\">\n",
       "  <thead>\n",
       "    <tr style=\"text-align: right;\">\n",
       "      <th></th>\n",
       "      <th>Features</th>\n",
       "      <th>Score</th>\n",
       "    </tr>\n",
       "  </thead>\n",
       "  <tbody>\n",
       "    <tr>\n",
       "      <th>0</th>\n",
       "      <td>TREATMENT_LOCATION</td>\n",
       "      <td>1.0</td>\n",
       "    </tr>\n",
       "    <tr>\n",
       "      <th>20</th>\n",
       "      <td>SECTOR_SEMAR</td>\n",
       "      <td>1.0</td>\n",
       "    </tr>\n",
       "    <tr>\n",
       "      <th>377</th>\n",
       "      <td>ANOTHER CASE_NO</td>\n",
       "      <td>1.0</td>\n",
       "    </tr>\n",
       "    <tr>\n",
       "      <th>17</th>\n",
       "      <td>SECTOR_PRIVATE</td>\n",
       "      <td>1.0</td>\n",
       "    </tr>\n",
       "    <tr>\n",
       "      <th>334</th>\n",
       "      <td>INTUBATED_NO</td>\n",
       "      <td>1.0</td>\n",
       "    </tr>\n",
       "    <tr>\n",
       "      <th>335</th>\n",
       "      <td>INTUBATED_YES</td>\n",
       "      <td>1.0</td>\n",
       "    </tr>\n",
       "    <tr>\n",
       "      <th>378</th>\n",
       "      <td>ANOTHER CASE_UNKNOWN</td>\n",
       "      <td>1.0</td>\n",
       "    </tr>\n",
       "    <tr>\n",
       "      <th>13</th>\n",
       "      <td>SECTOR_ISSSTE</td>\n",
       "      <td>1.0</td>\n",
       "    </tr>\n",
       "    <tr>\n",
       "      <th>12</th>\n",
       "      <td>SECTOR_IMSS</td>\n",
       "      <td>1.0</td>\n",
       "    </tr>\n",
       "    <tr>\n",
       "      <th>379</th>\n",
       "      <td>ANOTHER CASE_YES</td>\n",
       "      <td>1.0</td>\n",
       "    </tr>\n",
       "    <tr>\n",
       "      <th>1</th>\n",
       "      <td>BIRTHPLACE_LOCATION</td>\n",
       "      <td>1.0</td>\n",
       "    </tr>\n",
       "    <tr>\n",
       "      <th>336</th>\n",
       "      <td>PNEUMONIA_NO</td>\n",
       "      <td>1.0</td>\n",
       "    </tr>\n",
       "    <tr>\n",
       "      <th>337</th>\n",
       "      <td>PNEUMONIA_YES</td>\n",
       "      <td>1.0</td>\n",
       "    </tr>\n",
       "    <tr>\n",
       "      <th>370</th>\n",
       "      <td>OBESITY_YES</td>\n",
       "      <td>1.0</td>\n",
       "    </tr>\n",
       "    <tr>\n",
       "      <th>6</th>\n",
       "      <td>ADMISSION_MONTH</td>\n",
       "      <td>1.0</td>\n",
       "    </tr>\n",
       "    <tr>\n",
       "      <th>369</th>\n",
       "      <td>OBESITY_NO</td>\n",
       "      <td>1.0</td>\n",
       "    </tr>\n",
       "    <tr>\n",
       "      <th>4</th>\n",
       "      <td>AGE</td>\n",
       "      <td>1.0</td>\n",
       "    </tr>\n",
       "    <tr>\n",
       "      <th>3</th>\n",
       "      <td>MUNICIPALITY</td>\n",
       "      <td>1.0</td>\n",
       "    </tr>\n",
       "    <tr>\n",
       "      <th>2</th>\n",
       "      <td>PATIENT_LOCATION</td>\n",
       "      <td>1.0</td>\n",
       "    </tr>\n",
       "    <tr>\n",
       "      <th>21</th>\n",
       "      <td>SECTOR_SSA</td>\n",
       "      <td>1.0</td>\n",
       "    </tr>\n",
       "  </tbody>\n",
       "</table>\n",
       "</div>"
      ],
      "text/plain": [
       "                 Features  Score\n",
       "0      TREATMENT_LOCATION    1.0\n",
       "20           SECTOR_SEMAR    1.0\n",
       "377       ANOTHER CASE_NO    1.0\n",
       "17         SECTOR_PRIVATE    1.0\n",
       "334          INTUBATED_NO    1.0\n",
       "335         INTUBATED_YES    1.0\n",
       "378  ANOTHER CASE_UNKNOWN    1.0\n",
       "13          SECTOR_ISSSTE    1.0\n",
       "12            SECTOR_IMSS    1.0\n",
       "379      ANOTHER CASE_YES    1.0\n",
       "1     BIRTHPLACE_LOCATION    1.0\n",
       "336          PNEUMONIA_NO    1.0\n",
       "337         PNEUMONIA_YES    1.0\n",
       "370           OBESITY_YES    1.0\n",
       "6         ADMISSION_MONTH    1.0\n",
       "369            OBESITY_NO    1.0\n",
       "4                     AGE    1.0\n",
       "3            MUNICIPALITY    1.0\n",
       "2        PATIENT_LOCATION    1.0\n",
       "21             SECTOR_SSA    1.0"
      ]
     },
     "metadata": {},
     "output_type": "display_data"
    }
   ],
   "source": [
    "print('---------Top 20----------')\n",
    "display(boruta_score.head(20))"
   ]
  },
  {
   "cell_type": "code",
   "execution_count": 42,
   "id": "5a41b832-02cd-4037-aa60-7e76fcbea980",
   "metadata": {
    "colab": {
     "base_uri": "https://localhost:8080/",
     "height": 832
    },
    "id": "5a41b832-02cd-4037-aa60-7e76fcbea980",
    "outputId": "ad5531bd-95f8-4d85-9da0-7d8595d051a3"
   },
   "outputs": [
    {
     "data": {
      "text/plain": [
       "Text(0.5, 1.0, 'Boruta Top 20 Features')"
      ]
     },
     "execution_count": 42,
     "metadata": {},
     "output_type": "execute_result"
    },
    {
     "data": {
      "image/png": "[encoded data removed]",
      "text/plain": [
       "<Figure size 1915.2x1008 with 1 Axes>"
      ]
     },
     "metadata": {
      "needs_background": "light"
     },
     "output_type": "display_data"
    }
   ],
   "source": [
    "import seaborn as sns\n",
    "import matplotlib.pyplot as plt\n",
    "sns_boruta_plot = sns.catplot(x=\"Score\", y=\"Features\", data = boruta_score[:20], kind = \"bar\", \n",
    "               height=14, aspect=1.9, palette='coolwarm')\n",
    "plt.title(\"Boruta Top 20 Features\")"
   ]
  },
  {
   "cell_type": "code",
   "execution_count": 43,
   "id": "8c334d0f-4ffa-4927-97c7-c645dd8da05e",
   "metadata": {
    "id": "8c334d0f-4ffa-4927-97c7-c645dd8da05e"
   },
   "outputs": [],
   "source": [
    "rf = RandomForestClassifier(n_jobs=-1, class_weight=\"balanced\", max_depth=5, n_estimators=100)\n",
    "rf.fit(X, y)\n",
    "rfe = RFECV(rf, min_features_to_select = 1, cv = 3)"
   ]
  },
  {
   "cell_type": "code",
   "execution_count": 44,
   "id": "fcc2afd6-0ddb-4d70-b818-f19cb783bc2f",
   "metadata": {
    "colab": {
     "base_uri": "https://localhost:8080/"
    },
    "id": "fcc2afd6-0ddb-4d70-b818-f19cb783bc2f",
    "outputId": "4305c988-dc37-41d4-fc15-ebe96f814daf"
   },
   "outputs": [
    {
     "data": {
      "text/plain": [
       "RFECV(cv=3,\n",
       "      estimator=RandomForestClassifier(class_weight='balanced', max_depth=5,\n",
       "                                       n_jobs=-1))"
      ]
     },
     "execution_count": 44,
     "metadata": {},
     "output_type": "execute_result"
    }
   ],
   "source": [
    "rfe.fit(X, y)"
   ]
  },
  {
   "cell_type": "code",
   "execution_count": 47,
   "id": "5adabe0b-f128-429b-a8f8-004cf2bb4585",
   "metadata": {
    "id": "5adabe0b-f128-429b-a8f8-004cf2bb4585"
   },
   "outputs": [],
   "source": [
    "rfe_score = ranking(list(map(float, rfe.ranking_)), colnames, order=-1)\n",
    "rfe_score = pd.DataFrame(list(rfe_score.items()), columns=['Features', 'Score'])\n",
    "rfe_score = rfe_score.sort_values(\"Score\", ascending = False)\n",
    "pd.DataFrame.to_csv(rfe_score, 'RFE_Scores.csv')"
   ]
  },
  {
   "cell_type": "code",
   "execution_count": 46,
   "id": "76038114-9604-4a5f-8f29-ceeb233e0e67",
   "metadata": {
    "colab": {
     "base_uri": "https://localhost:8080/",
     "height": 832
    },
    "id": "76038114-9604-4a5f-8f29-ceeb233e0e67",
    "outputId": "14c91cb5-6909-4466-f347-a31f7401b11a"
   },
   "outputs": [
    {
     "data": {
      "text/plain": [
       "Text(0.5, 1.0, 'RFE Top 20 Features')"
      ]
     },
     "execution_count": 46,
     "metadata": {},
     "output_type": "execute_result"
    },
    {
     "data": {
      "image/png": "[encoded data removed]",
      "text/plain": [
       "<Figure size 1915.2x1008 with 1 Axes>"
      ]
     },
     "metadata": {
      "needs_background": "light"
     },
     "output_type": "display_data"
    }
   ],
   "source": [
    "sns_rfe_plot = sns.catplot(x=\"Score\", y=\"Features\", data = rfe_score[:20], kind = \"bar\", \n",
    "               height=14, aspect=1.9, palette='coolwarm')\n",
    "plt.title(\"RFE Top 20 Features\")"
   ]
  },
  {
   "cell_type": "markdown",
   "id": "e5e5b6d0-3db3-4c6a-a67f-22667b35a1ae",
   "metadata": {
    "id": "e5e5b6d0-3db3-4c6a-a67f-22667b35a1ae"
   },
   "source": [
    "### Question 9"
   ]
  },
  {
   "cell_type": "code",
   "execution_count": 40,
   "id": "7d6858a0-ca0d-4820-835e-30fcf161913e",
   "metadata": {
    "colab": {
     "base_uri": "https://localhost:8080/"
    },
    "id": "7d6858a0-ca0d-4820-835e-30fcf161913e",
    "outputId": "7fe460e5-1d33-4286-d46f-80a7cae47a48"
   },
   "outputs": [
    {
     "data": {
      "text/plain": [
       "['TREATMENT_LOCATION',\n",
       " 'SECTOR_PRIVATE',\n",
       " 'PATIENT_LOCATION',\n",
       " 'INTUBATED_NO',\n",
       " 'INTUBATED_YES',\n",
       " 'ANOTHER CASE_NO',\n",
       " 'PNEUMONIA_NO',\n",
       " 'ANOTHER CASE_UNKNOWN',\n",
       " 'SECTOR_SSA',\n",
       " 'ANOTHER CASE_YES',\n",
       " 'SECTOR_SEMAR',\n",
       " 'SECTOR_IMSS',\n",
       " 'SECTOR_ISSSTE',\n",
       " 'AGE',\n",
       " 'ORIGIN_USMER',\n",
       " 'PNEUMONIA_YES',\n",
       " 'OBESITY_NO',\n",
       " 'OBESITY_YES',\n",
       " 'SECTOR_SEDENA',\n",
       " 'ADMISSION DATE_2020-04-06']"
      ]
     },
     "execution_count": 40,
     "metadata": {},
     "output_type": "execute_result"
    }
   ],
   "source": [
    "## Question 9\n",
    "\n",
    "## Top N features of BORUTA\n",
    "top_20_features = boruta_score.Features[:20].tolist()\n",
    "top_20_features"
   ]
  },
  {
   "cell_type": "code",
   "execution_count": 41,
   "id": "71f59e7d-2367-4071-8d7f-0800631c1e70",
   "metadata": {
    "colab": {
     "base_uri": "https://localhost:8080/"
    },
    "id": "71f59e7d-2367-4071-8d7f-0800631c1e70",
    "outputId": "95754a60-28a1-4cc2-e72a-3e13ced3e06d"
   },
   "outputs": [
    {
     "name": "stdout",
     "output_type": "stream",
     "text": [
      "Top  5 features :  0.9228965112870126\n",
      "Top  6 features :  0.9227987882341444\n",
      "Top  7 features :  0.9213329424411218\n",
      "Top  8 features :  0.9199648197009674\n",
      "Top  9 features :  0.9229942343398808\n",
      "Top  10 features :  0.9222124499169354\n",
      "Top  11 features :  0.9235805726570898\n",
      "Top  12 features :  0.9226033421284081\n",
      "Top  13 features :  0.9255350337144532\n",
      "Top  14 features :  0.9246555262386397\n",
      "Top  15 features :  0.9240691879214307\n",
      "Top  16 features :  0.9239714648685625\n",
      "Top  17 features :  0.9244600801329034\n",
      "Top  18 features :  0.9239714648685625\n",
      "Top  19 features :  0.9248509723443761\n",
      "Top  20 features :  0.9244600801329034\n"
     ]
    }
   ],
   "source": [
    "score_dict = {}\n",
    "for n in range(5, 21):\n",
    "    top_n_features = top_20_features[:n]\n",
    "    iter_y = df1.ICU\n",
    "    iter_X = df1[top_n_features]\n",
    "    iter_X_train, iter_X_test, iter_y_train, iter_y_test = train_test_split(iter_X, iter_y, test_size = .2, random_state = 1) \n",
    "\n",
    "    rf = RandomForestClassifier(random_state=1, n_estimators=1000, max_depth=5)\n",
    "\n",
    "    rf.fit(iter_X_train, iter_y_train)\n",
    "\n",
    "    score = accuracy_score(iter_y_test, rf.predict(iter_X_test))\n",
    "    print(\"Top \",n, \"features : \", score)\n",
    "    score_dict[n] = score\n",
    "    # rf = RandomForestClassifier(n_jobs=-1, class_weight=\"balanced\", max_depth=5, n_estimators=100)\n",
    "    # rf.fit(X, y)"
   ]
  },
  {
   "cell_type": "code",
   "execution_count": 42,
   "id": "ac91fc21-f447-4583-88a2-68c29b4600d1",
   "metadata": {
    "colab": {
     "base_uri": "https://localhost:8080/",
     "height": 824
    },
    "id": "ac91fc21-f447-4583-88a2-68c29b4600d1",
    "outputId": "410738cd-e7bf-448e-9657-da2af5419668"
   },
   "outputs": [
    {
     "data": {
      "text/plain": [
       "Text(0.5, 1.0, 'Score for Top N Features of Boruta')"
      ]
     },
     "execution_count": 42,
     "metadata": {},
     "output_type": "execute_result"
    },
    {
     "data": {
      "image/png": "[encoded data removed]",
      "text/plain": [
       "<Figure size 1915.2x1008 with 1 Axes>"
      ]
     },
     "metadata": {
      "needs_background": "light"
     },
     "output_type": "display_data"
    }
   ],
   "source": [
    "score_data = pd.DataFrame(score_dict.items())\n",
    "score_data = pd.DataFrame(score_dict.items(), columns=['N Features', 'Score'])\n",
    "score_data[\"N Features\"] = score_data[\"N Features\"].astype('int32')\n",
    "\n",
    "sns_score_plot = sns.catplot(x=\"N Features\", y=\"Score\", data = score_data, kind = \"bar\", \n",
    "               height=14, aspect=1.9, palette='coolwarm')\n",
    "sns_score_plot.set(ylim=[0.91, 0.93])\n",
    "plt.title(\"Score for Top N Features of Boruta\")"
   ]
  },
  {
   "cell_type": "code",
   "execution_count": 43,
   "id": "5a42134f-aef6-4410-b660-b43d65629f80",
   "metadata": {
    "colab": {
     "base_uri": "https://localhost:8080/"
    },
    "id": "5a42134f-aef6-4410-b660-b43d65629f80",
    "outputId": "029618b6-ec09-4808-9c47-d8622d44d3c8"
   },
   "outputs": [
    {
     "data": {
      "text/plain": [
       "['INTUBATED_NO',\n",
       " 'SECTOR_IMSS',\n",
       " 'INTUBATED_YES',\n",
       " 'TREATMENT_LOCATION',\n",
       " 'PATIENT_LOCATION',\n",
       " 'ANOTHER CASE_UNKNOWN',\n",
       " 'PNEUMONIA_NO',\n",
       " 'SECTOR_SSA',\n",
       " 'PNEUMONIA_YES',\n",
       " 'SECTOR_PRIVATE',\n",
       " 'ANOTHER CASE_NO',\n",
       " 'AGE',\n",
       " 'SECTOR_ISSSTE',\n",
       " 'ORIGIN_OUTSIDE USMER',\n",
       " 'ORIGIN_USMER',\n",
       " 'SECTOR_STATE',\n",
       " 'ANOTHER CASE_YES',\n",
       " 'SECTOR_SEDENA',\n",
       " 'OBESITY_NO',\n",
       " 'OBESITY_YES']"
      ]
     },
     "execution_count": 43,
     "metadata": {},
     "output_type": "execute_result"
    }
   ],
   "source": [
    "## Top N features of RFE\n",
    "rfe_score\n",
    "top_20_features = rfe_score.Features[:20].tolist()\n",
    "top_20_features"
   ]
  },
  {
   "cell_type": "code",
   "execution_count": 44,
   "id": "ae07b025-a3c5-458a-a507-a4e04ebada2a",
   "metadata": {
    "colab": {
     "base_uri": "https://localhost:8080/"
    },
    "id": "ae07b025-a3c5-458a-a507-a4e04ebada2a",
    "outputId": "a6e4b9ca-624e-4aa1-872d-f4498ddcbeb9"
   },
   "outputs": [
    {
     "name": "stdout",
     "output_type": "stream",
     "text": [
      "Top  5 features :  0.9221147268640673\n",
      "Top  6 features :  0.9227010651812763\n",
      "Top  7 features :  0.9218215577054627\n",
      "Top  8 features :  0.9212352193882537\n",
      "Top  9 features :  0.9222124499169354\n",
      "Top  10 features :  0.92250561907554\n",
      "Top  11 features :  0.9216261115997264\n",
      "Top  12 features :  0.9218215577054627\n",
      "Top  13 features :  0.9251441415029805\n",
      "Top  14 features :  0.924264634027167\n",
      "Top  15 features :  0.9243623570800352\n",
      "Top  16 features :  0.9270008795074758\n",
      "Top  17 features :  0.9249486953972442\n",
      "Top  18 features :  0.9249486953972442\n",
      "Top  19 features :  0.9254373106615851\n",
      "Top  20 features :  0.9246555262386397\n"
     ]
    }
   ],
   "source": [
    "score_dict = {}\n",
    "for n in range(5, 21):\n",
    "    top_n_features = top_20_features[:n]\n",
    "    iter_y = df1.ICU\n",
    "    iter_X = df1[top_n_features]\n",
    "    iter_X_train, iter_X_test, iter_y_train, iter_y_test = train_test_split(iter_X, iter_y, test_size = .2, random_state = 1) \n",
    "\n",
    "    rf = RandomForestClassifier(random_state=1, n_estimators=1000, max_depth=5)\n",
    "\n",
    "    rf.fit(iter_X_train, iter_y_train)\n",
    "\n",
    "    score = accuracy_score(iter_y_test, rf.predict(iter_X_test))\n",
    "    print(\"Top \",n, \"features : \", score)\n",
    "    score_dict[n] = score\n",
    "    # rf = RandomForestClassifier(n_jobs=-1, class_weight=\"balanced\", max_depth=5, n_estimators=100)\n",
    "    # rf.fit(X, y)"
   ]
  },
  {
   "cell_type": "code",
   "execution_count": 45,
   "id": "d0d3c745-2751-4bd7-a729-b6b40a7cdf33",
   "metadata": {
    "colab": {
     "base_uri": "https://localhost:8080/",
     "height": 824
    },
    "id": "d0d3c745-2751-4bd7-a729-b6b40a7cdf33",
    "outputId": "e197d32b-db55-4607-8ea6-7906b7a5ba8f"
   },
   "outputs": [
    {
     "data": {
      "text/plain": [
       "Text(0.5, 1.0, 'Score for Top N Features of RFE')"
      ]
     },
     "execution_count": 45,
     "metadata": {},
     "output_type": "execute_result"
    },
    {
     "data": {
      "image/png": "[encoded data removed]",
      "text/plain": [
       "<Figure size 1915.2x1008 with 1 Axes>"
      ]
     },
     "metadata": {
      "needs_background": "light"
     },
     "output_type": "display_data"
    }
   ],
   "source": [
    "score_data = pd.DataFrame(score_dict.items())\n",
    "score_data = pd.DataFrame(score_dict.items(), columns=['N Features', 'Score'])\n",
    "score_data[\"N Features\"] = score_data[\"N Features\"].astype('int32')\n",
    "\n",
    "sns_score_plot = sns.catplot(x=\"N Features\", y=\"Score\", data = score_data, kind = \"bar\", \n",
    "               height=14, aspect=1.9, palette='coolwarm')\n",
    "sns_score_plot.set(ylim=[0.91, 0.93])\n",
    "plt.title(\"Score for Top N Features of RFE\")"
   ]
  },
  {
   "cell_type": "markdown",
   "id": "c4b99e61-7f19-4944-9539-4beacf5a9e1c",
   "metadata": {
    "id": "c4b99e61-7f19-4944-9539-4beacf5a9e1c"
   },
   "source": [
    "### Question 10"
   ]
  },
  {
   "cell_type": "code",
   "execution_count": 105,
   "id": "1783c9d0-22c8-4f92-9341-b9a95abbdcff",
   "metadata": {
    "id": "1783c9d0-22c8-4f92-9341-b9a95abbdcff",
    "tags": []
   },
   "outputs": [],
   "source": [
    "## Question 10\n",
    "import matplotlib.pyplot as plt\n",
    "from sklearn.model_selection import train_test_split\n",
    "from sklearn.naive_bayes import GaussianNB\n",
    "from sklearn.metrics import confusion_matrix\n",
    "from sklearn.metrics import accuracy_score, precision_score, recall_score, f1_score\n",
    "from sklearn.metrics import roc_curve\n",
    "from sklearn.metrics import roc_auc_score\n",
    "from sklearn.metrics import precision_recall_curve"
   ]
  },
  {
   "cell_type": "code",
   "execution_count": 163,
   "id": "84020f67-a5d1-49ed-b457-08eeb29ea171",
   "metadata": {
    "id": "84020f67-a5d1-49ed-b457-08eeb29ea171"
   },
   "outputs": [],
   "source": [
    "X_train, X_test, y_train, y_test = train_test_split(X, y, test_size=0.3, random_state=0)"
   ]
  },
  {
   "cell_type": "code",
   "execution_count": 164,
   "id": "eabdc4e7-07bf-467d-aef8-25dab5437303",
   "metadata": {
    "id": "eabdc4e7-07bf-467d-aef8-25dab5437303"
   },
   "outputs": [],
   "source": [
    "nb = GaussianNB()\n",
    "nb.fit(X_train, y_train)\n",
    "y_pred = nb.predict(X_test)"
   ]
  },
  {
   "cell_type": "code",
   "execution_count": 165,
   "id": "79d168eb-8e47-4cc1-a17b-a7a99eee5670",
   "metadata": {
    "colab": {
     "base_uri": "https://localhost:8080/"
    },
    "id": "79d168eb-8e47-4cc1-a17b-a7a99eee5670",
    "outputId": "1390176a-6863-426b-8b49-56d056558c71"
   },
   "outputs": [
    {
     "name": "stdout",
     "output_type": "stream",
     "text": [
      "Accuracy on training set: 0.819\n",
      "Accuracy on test set: 0.822\n"
     ]
    }
   ],
   "source": [
    "#Accuracy\n",
    "print(\"Accuracy on training set: {:.3f}\".format(nb.score(X_train, y_train)))\n",
    "print(\"Accuracy on test set: {:.3f}\".format(nb.score(X_test, y_test)))"
   ]
  },
  {
   "cell_type": "code",
   "execution_count": 166,
   "id": "b52aef1a-2242-4e15-bdb2-0a5ba75e949c",
   "metadata": {
    "colab": {
     "base_uri": "https://localhost:8080/"
    },
    "id": "b52aef1a-2242-4e15-bdb2-0a5ba75e949c",
    "outputId": "4399c0a3-7216-4c7b-e661-6e32f104e891"
   },
   "outputs": [
    {
     "name": "stdout",
     "output_type": "stream",
     "text": [
      "Mjority classifier Confusion Matrix\n",
      " [[11714  2289]\n",
      " [  437   910]]\n",
      "**********************\n",
      "Mjority TN=  11714\n",
      "Mjority FP= 2289\n",
      "Mjority FN=  437\n",
      "Mjority TP=  910\n",
      "**********************\n",
      "Precision= 0.28\n",
      "Recall= 0.68\n",
      "F1= 0.40\n",
      "Accuracy= 0.82\n"
     ]
    }
   ],
   "source": [
    "#Confusion Matrix\n",
    "confusion_majority = confusion_matrix(y_test, y_pred)\n",
    "\n",
    "print('Mjority classifier Confusion Matrix\\n', confusion_majority)\n",
    "\n",
    "print('**********************')\n",
    "print('Mjority TN= ', confusion_majority[0][0])\n",
    "print('Mjority FP=', confusion_majority[0][1])\n",
    "print('Mjority FN= ', confusion_majority[1][0])\n",
    "print('Mjority TP= ', confusion_majority[1][1])\n",
    "print('**********************')\n",
    "\n",
    "print('Precision= {:.2f}'.format(precision_score(y_test, y_pred)))\n",
    "print('Recall= {:.2f}'. format(recall_score(y_test, y_pred)))\n",
    "print('F1= {:.2f}'. format(f1_score(y_test, y_pred)))\n",
    "print('Accuracy= {:.2f}'. format(accuracy_score(y_test, y_pred)))"
   ]
  },
  {
   "cell_type": "code",
   "execution_count": 167,
   "id": "d89c6b5a-cca4-48ce-bbbe-429454fb631e",
   "metadata": {
    "colab": {
     "base_uri": "https://localhost:8080/"
    },
    "id": "d89c6b5a-cca4-48ce-bbbe-429454fb631e",
    "outputId": "ed361ba3-bd82-4f39-b004-2330dee7c691"
   },
   "outputs": [
    {
     "name": "stdout",
     "output_type": "stream",
     "text": [
      "AUC: 0.82\n"
     ]
    }
   ],
   "source": [
    "#AUC\n",
    "prob_NB = nb.predict_proba(X_test)\n",
    "prob_NB = prob_NB[:, 1]\n",
    "\n",
    "auc_NB= roc_auc_score(y_test, prob_NB)\n",
    "print('AUC: %.2f' % auc_NB)"
   ]
  },
  {
   "cell_type": "code",
   "execution_count": 168,
   "id": "de0898b3-4ccd-4e2d-b2a2-7c1fe3712695",
   "metadata": {
    "colab": {
     "base_uri": "https://localhost:8080/",
     "height": 312
    },
    "id": "de0898b3-4ccd-4e2d-b2a2-7c1fe3712695",
    "outputId": "304ec383-f4f5-4e05-ab67-7c67c0726843"
   },
   "outputs": [
    {
     "data": {
      "text/plain": [
       "<matplotlib.legend.Legend at 0x1d16d27c370>"
      ]
     },
     "execution_count": 168,
     "metadata": {},
     "output_type": "execute_result"
    },
    {
     "data": {
      "image/png": "[encoded data removed]",
      "text/plain": [
       "<Figure size 432x288 with 1 Axes>"
      ]
     },
     "metadata": {
      "needs_background": "light"
     },
     "output_type": "display_data"
    }
   ],
   "source": [
    "fpr_NB, tpr_NB, thresholds_NB = roc_curve(y_test, prob_NB) \n",
    "\n",
    "plt.plot(fpr_NB, tpr_NB, color='orange', label='NB') \n",
    "plt.plot([0, 1], [0, 1], color='green', linestyle='--')\n",
    "plt.xlabel('False Positive Rate')\n",
    "plt.ylabel('True Positive Rate')\n",
    "plt.title('Receiver Operating Characteristic (ROC) Curve')\n",
    "plt.legend()"
   ]
  },
  {
   "cell_type": "markdown",
   "id": "24fff838-baf0-4b67-bfde-6733ea341e77",
   "metadata": {
    "id": "24fff838-baf0-4b67-bfde-6733ea341e77"
   },
   "source": [
    "### Question 11"
   ]
  },
  {
   "cell_type": "code",
   "execution_count": 169,
   "id": "53776c6c-b7fb-441b-9e23-c44a851090a5",
   "metadata": {
    "id": "53776c6c-b7fb-441b-9e23-c44a851090a5"
   },
   "outputs": [],
   "source": [
    "# Question 11\n",
    "from sklearn.ensemble import RandomForestClassifier"
   ]
  },
  {
   "cell_type": "code",
   "execution_count": 170,
   "id": "3e18aecd-16a2-4cfc-b98c-5474ab43b42f",
   "metadata": {
    "id": "3e18aecd-16a2-4cfc-b98c-5474ab43b42f"
   },
   "outputs": [],
   "source": [
    "rf = RandomForestClassifier(random_state=1, n_estimators=1000, max_depth=5)\n",
    "rf.fit(X_train, y_train)\n",
    "y_pred = rf.predict(X_test)"
   ]
  },
  {
   "cell_type": "code",
   "execution_count": 171,
   "id": "05c9d240-7f79-48d1-a933-06945c48bac8",
   "metadata": {
    "colab": {
     "base_uri": "https://localhost:8080/"
    },
    "id": "05c9d240-7f79-48d1-a933-06945c48bac8",
    "outputId": "f4f1ba05-8d13-40cc-ae13-9e1221e2154d"
   },
   "outputs": [
    {
     "name": "stdout",
     "output_type": "stream",
     "text": [
      "Accuracy on training set: 0.908\n",
      "Accuracy on test set: 0.913\n"
     ]
    }
   ],
   "source": [
    "#Accuracy\n",
    "print(\"Accuracy on training set: {:.3f}\".format(rf.score(X_train, y_train)))\n",
    "print(\"Accuracy on test set: {:.3f}\".format(rf.score(X_test, y_test)))"
   ]
  },
  {
   "cell_type": "code",
   "execution_count": 172,
   "id": "d4c0aca2-aee1-4d91-bcd9-8adf77c56436",
   "metadata": {
    "colab": {
     "base_uri": "https://localhost:8080/"
    },
    "id": "d4c0aca2-aee1-4d91-bcd9-8adf77c56436",
    "outputId": "976ea04b-3908-4445-dfe5-bed36a07a522"
   },
   "outputs": [
    {
     "name": "stdout",
     "output_type": "stream",
     "text": [
      "Mjority classifier Confusion Matrix\n",
      " [[14003     0]\n",
      " [ 1340     7]]\n",
      "**********************\n",
      "Mjority TN=  14003\n",
      "Mjority FP= 0\n",
      "Mjority FN=  1340\n",
      "Mjority TP=  7\n",
      "**********************\n",
      "Precision= 1.00\n",
      "Recall= 0.01\n",
      "F1= 0.01\n",
      "Accuracy= 0.91\n"
     ]
    }
   ],
   "source": [
    "#Confusion Matrix\n",
    "confusion_majority = confusion_matrix(y_test, y_pred)\n",
    "\n",
    "print('Mjority classifier Confusion Matrix\\n', confusion_majority)\n",
    "\n",
    "print('**********************')\n",
    "print('Mjority TN= ', confusion_majority[0][0])\n",
    "print('Mjority FP=', confusion_majority[0][1])\n",
    "print('Mjority FN= ', confusion_majority[1][0])\n",
    "print('Mjority TP= ', confusion_majority[1][1])\n",
    "print('**********************')\n",
    "\n",
    "print('Precision= {:.2f}'.format(precision_score(y_test, y_pred)))\n",
    "print('Recall= {:.2f}'. format(recall_score(y_test, y_pred)))\n",
    "print('F1= {:.2f}'. format(f1_score(y_test, y_pred)))\n",
    "print('Accuracy= {:.2f}'. format(accuracy_score(y_test, y_pred)))"
   ]
  },
  {
   "cell_type": "code",
   "execution_count": 173,
   "id": "bafb68bb-90b2-406e-956d-15a7d223efca",
   "metadata": {
    "colab": {
     "base_uri": "https://localhost:8080/"
    },
    "id": "bafb68bb-90b2-406e-956d-15a7d223efca",
    "outputId": "0d46f149-0669-4dd9-d961-f98dcd50c0a9"
   },
   "outputs": [
    {
     "name": "stdout",
     "output_type": "stream",
     "text": [
      "AUC: 0.88\n"
     ]
    }
   ],
   "source": [
    "#AUC\n",
    "prob_RF = rf.predict_proba(X_test)\n",
    "prob_RF = prob_RF[:, 1]\n",
    "\n",
    "auc_RF= roc_auc_score(y_test, prob_RF)\n",
    "print('AUC: %.2f' % auc_RF)"
   ]
  },
  {
   "cell_type": "code",
   "execution_count": 174,
   "id": "b45da3bf-1517-4441-91ee-7efdd9ec07de",
   "metadata": {
    "colab": {
     "base_uri": "https://localhost:8080/",
     "height": 312
    },
    "id": "b45da3bf-1517-4441-91ee-7efdd9ec07de",
    "outputId": "47dddd89-a7b3-4265-faa7-4af6cef96290"
   },
   "outputs": [
    {
     "data": {
      "text/plain": [
       "<matplotlib.legend.Legend at 0x1d1656983a0>"
      ]
     },
     "execution_count": 174,
     "metadata": {},
     "output_type": "execute_result"
    },
    {
     "data": {
      "image/png": "[encoded data removed]",
      "text/plain": [
       "<Figure size 432x288 with 1 Axes>"
      ]
     },
     "metadata": {
      "needs_background": "light"
     },
     "output_type": "display_data"
    }
   ],
   "source": [
    "fpr_RF, tpr_RF, thresholds_RF = roc_curve(y_test, prob_RF) \n",
    "\n",
    "plt.plot(fpr_RF, tpr_RF, color='blue', label='RF') \n",
    "plt.plot([0, 1], [0, 1], color='green', linestyle='--')\n",
    "plt.xlabel('False Positive Rate')\n",
    "plt.ylabel('True Positive Rate')\n",
    "plt.title('Receiver Operating Characteristic (ROC) Curve')\n",
    "plt.legend()"
   ]
  },
  {
   "cell_type": "markdown",
   "id": "cRJ5yle1nTun",
   "metadata": {
    "id": "cRJ5yle1nTun"
   },
   "source": [
    "### Question 12"
   ]
  },
  {
   "cell_type": "code",
   "execution_count": 175,
   "id": "576fe4ee-0567-441c-ae6a-01d8d42eb58f",
   "metadata": {
    "id": "576fe4ee-0567-441c-ae6a-01d8d42eb58f"
   },
   "outputs": [],
   "source": [
    "from sklearn.neighbors import KNeighborsClassifier\n",
    "\n",
    "KNN = KNeighborsClassifier(n_neighbors=3)\n",
    "KNN.fit(X_train, y_train)\n",
    "y_pred = KNN.predict(X_test)"
   ]
  },
  {
   "cell_type": "code",
   "execution_count": 176,
   "id": "-7VZ9ezgbyrb",
   "metadata": {
    "colab": {
     "base_uri": "https://localhost:8080/"
    },
    "id": "-7VZ9ezgbyrb",
    "outputId": "b9ec3454-7a5e-4ccb-c494-ff7d21f8e41d"
   },
   "outputs": [
    {
     "name": "stdout",
     "output_type": "stream",
     "text": [
      "Accuracy on training set: 0.943\n",
      "Accuracy on test set: 0.914\n"
     ]
    }
   ],
   "source": [
    "#Accuracy\n",
    "print(\"Accuracy on training set: {:.3f}\".format(KNN.score(X_train, y_train)))\n",
    "print(\"Accuracy on test set: {:.3f}\".format(KNN.score(X_test, y_test)))"
   ]
  },
  {
   "cell_type": "code",
   "execution_count": 177,
   "id": "gQtJQsILcI5l",
   "metadata": {
    "colab": {
     "base_uri": "https://localhost:8080/"
    },
    "id": "gQtJQsILcI5l",
    "outputId": "7ec6540e-ec2b-4dff-f5a3-2c8b202352f6"
   },
   "outputs": [
    {
     "name": "stdout",
     "output_type": "stream",
     "text": [
      "Mjority classifier Confusion Matrix\n",
      " [[13727   276]\n",
      " [ 1045   302]]\n",
      "**********************\n",
      "Mjority TN=  13727\n",
      "Mjority FP= 276\n",
      "Mjority FN=  1045\n",
      "Mjority TP=  302\n",
      "**********************\n",
      "Precision= 0.52\n",
      "Recall= 0.22\n",
      "F1= 0.31\n",
      "Accuracy= 0.91\n"
     ]
    }
   ],
   "source": [
    "#Confusion Matrix\n",
    "confusion_majority = confusion_matrix(y_test, y_pred)\n",
    "\n",
    "print('Mjority classifier Confusion Matrix\\n', confusion_majority)\n",
    "\n",
    "print('**********************')\n",
    "print('Mjority TN= ', confusion_majority[0][0])\n",
    "print('Mjority FP=', confusion_majority[0][1])\n",
    "print('Mjority FN= ', confusion_majority[1][0])\n",
    "print('Mjority TP= ', confusion_majority[1][1])\n",
    "print('**********************')\n",
    "\n",
    "print('Precision= {:.2f}'.format(precision_score(y_test, y_pred)))\n",
    "print('Recall= {:.2f}'. format(recall_score(y_test, y_pred)))\n",
    "print('F1= {:.2f}'. format(f1_score(y_test, y_pred)))\n",
    "print('Accuracy= {:.2f}'. format(accuracy_score(y_test, y_pred)))"
   ]
  },
  {
   "cell_type": "code",
   "execution_count": 178,
   "id": "kazK30TAchN7",
   "metadata": {
    "colab": {
     "base_uri": "https://localhost:8080/"
    },
    "id": "kazK30TAchN7",
    "outputId": "da203f6e-6a53-4cfd-8c43-75b0fb8f2166"
   },
   "outputs": [
    {
     "name": "stdout",
     "output_type": "stream",
     "text": [
      "AUC: 0.73\n"
     ]
    }
   ],
   "source": [
    "#AUC\n",
    "prob_KNN = KNN.predict_proba(X_test)\n",
    "prob_KNN = prob_KNN[:, 1]\n",
    "\n",
    "auc_KNN = roc_auc_score(y_test, prob_KNN)\n",
    "print('AUC: %.2f' % auc_KNN)"
   ]
  },
  {
   "cell_type": "code",
   "execution_count": 179,
   "id": "NsQHlTjlci1i",
   "metadata": {
    "colab": {
     "base_uri": "https://localhost:8080/",
     "height": 312
    },
    "id": "NsQHlTjlci1i",
    "outputId": "9d07b0e8-8542-4f97-aab9-7973dc703864"
   },
   "outputs": [
    {
     "data": {
      "text/plain": [
       "<matplotlib.legend.Legend at 0x1d16ac6c490>"
      ]
     },
     "execution_count": 179,
     "metadata": {},
     "output_type": "execute_result"
    },
    {
     "data": {
      "image/png": "[encoded data removed]",
      "text/plain": [
       "<Figure size 432x288 with 1 Axes>"
      ]
     },
     "metadata": {
      "needs_background": "light"
     },
     "output_type": "display_data"
    }
   ],
   "source": [
    "fpr_KNN, tpr_KNN, thresholds_KNN = roc_curve(y_test, prob_KNN) \n",
    "\n",
    "plt.plot(fpr_KNN, tpr_KNN, color='red', label='KNN') \n",
    "plt.plot([0, 1], [0, 1], color='green', linestyle='--')\n",
    "plt.xlabel('False Positive Rate')\n",
    "plt.ylabel('True Positive Rate')\n",
    "plt.title('Receiver Operating Characteristic (ROC) Curve')\n",
    "plt.legend()"
   ]
  },
  {
   "cell_type": "markdown",
   "id": "a298e5a0-30b4-40b3-b631-6e8f4240068c",
   "metadata": {
    "id": "a298e5a0-30b4-40b3-b631-6e8f4240068c"
   },
   "source": [
    "### Question 13"
   ]
  },
  {
   "cell_type": "code",
   "execution_count": 180,
   "id": "5afd74e1-c225-4177-bf63-215984438fb8",
   "metadata": {
    "colab": {
     "base_uri": "https://localhost:8080/",
     "height": 312
    },
    "id": "5afd74e1-c225-4177-bf63-215984438fb8",
    "outputId": "4a117eae-9ac8-4d4d-8c25-23ea38b0deba"
   },
   "outputs": [
    {
     "data": {
      "text/plain": [
       "<matplotlib.legend.Legend at 0x1d16595abe0>"
      ]
     },
     "execution_count": 180,
     "metadata": {},
     "output_type": "execute_result"
    },
    {
     "data": {
      "image/png": "[encoded data removed]",
      "text/plain": [
       "<Figure size 432x288 with 1 Axes>"
      ]
     },
     "metadata": {
      "needs_background": "light"
     },
     "output_type": "display_data"
    }
   ],
   "source": [
    "# Question 13\n",
    "plt.plot(fpr_NB, tpr_NB, color='orange', label='NB')\n",
    "plt.plot(fpr_RF, tpr_RF, color='blue', label='RF')\n",
    "plt.plot(fpr_KNN, tpr_KNN, color='red', label='KNN')\n",
    "plt.plot([0, 1], [0, 1], color='green', linestyle='--')\n",
    "plt.xlabel('False Positive Rate')\n",
    "plt.ylabel('True Positive Rate')\n",
    "plt.title('Receiver Operating Characteristic (ROC) Curve')\n",
    "plt.legend()"
   ]
  },
  {
   "cell_type": "markdown",
   "id": "U0Yfc0KZt30D",
   "metadata": {
    "id": "U0Yfc0KZt30D"
   },
   "source": [
    "## Question 14"
   ]
  },
  {
   "cell_type": "code",
   "execution_count": 129,
   "id": "04fabd9b-6083-4517-ba37-1326d4961dd0",
   "metadata": {
    "id": "04fabd9b-6083-4517-ba37-1326d4961dd0"
   },
   "outputs": [
    {
     "name": "stdout",
     "output_type": "stream",
     "text": [
      "length of oversampled data is  65014\n",
      "Number of no subscription in oversampled data 32507\n",
      "Number of subscription 32507\n",
      "Proportion of no subscription data in oversampled data is  0.5\n",
      "Proportion of subscription data in oversampled data is  0.5\n"
     ]
    }
   ],
   "source": [
    "## Question 14\n",
    "from imblearn.over_sampling import SMOTE\n",
    "\n",
    "os = SMOTE(random_state=0)\n",
    "X_train, X_test, y_train, y_test = train_test_split(X, y.values.ravel(), test_size=0.3, random_state=0)\n",
    "columns = X_train.columns\n",
    "os_data_X, os_data_y = os.fit_resample(X_train, y_train)\n",
    "os_data_X = pd.DataFrame(data=os_data_X, columns=columns)\n",
    "os_data_y = pd.DataFrame(data=os_data_y, columns=['ICU'])\n",
    "\n",
    "# we can Check the numbers of our data\n",
    "print(\"length of oversampled data is \",len(os_data_X))\n",
    "print(\"Number of no subscription in oversampled data\",len(os_data_y[os_data_y['ICU']==0]))\n",
    "print(\"Number of subscription\",len(os_data_y[os_data_y['ICU']==1]))\n",
    "print(\"Proportion of no subscription data in oversampled data is \",len(os_data_y[os_data_y['ICU']==0])/len(os_data_X))\n",
    "print(\"Proportion of subscription data in oversampled data is \",len(os_data_y[os_data_y['ICU']==1])/len(os_data_X))"
   ]
  },
  {
   "cell_type": "code",
   "execution_count": 130,
   "id": "0d5744b7-80bb-41db-bd08-ec284190cbbd",
   "metadata": {
    "id": "1783c9d0-22c8-4f92-9341-b9a95abbdcff",
    "tags": []
   },
   "outputs": [],
   "source": [
    "## Question 10\n",
    "import matplotlib.pyplot as plt\n",
    "from sklearn.model_selection import train_test_split\n",
    "from sklearn.naive_bayes import GaussianNB\n",
    "from sklearn.metrics import confusion_matrix\n",
    "from sklearn.metrics import accuracy_score, precision_score, recall_score, f1_score\n",
    "from sklearn.metrics import roc_curve\n",
    "from sklearn.metrics import roc_auc_score\n",
    "from sklearn.metrics import precision_recall_curve"
   ]
  },
  {
   "cell_type": "code",
   "execution_count": 141,
   "id": "791bfc0b-10c3-4945-b2c2-c756f6d40f42",
   "metadata": {
    "id": "84020f67-a5d1-49ed-b457-08eeb29ea171"
   },
   "outputs": [],
   "source": [
    "X_train, X_test, y_train, y_test = train_test_split(os_data_X, os_data_y, test_size=0.3, random_state=0)"
   ]
  },
  {
   "cell_type": "code",
   "execution_count": 142,
   "id": "533a19ec-58c1-4efe-a933-6fba70f49ecc",
   "metadata": {
    "id": "eabdc4e7-07bf-467d-aef8-25dab5437303"
   },
   "outputs": [],
   "source": [
    "nb = GaussianNB()\n",
    "nb.fit(X_train, y_train)\n",
    "y_pred = nb.predict(X_test)"
   ]
  },
  {
   "cell_type": "code",
   "execution_count": 143,
   "id": "48662aa1-b05e-4b96-9995-9c6afdb9dfc2",
   "metadata": {
    "colab": {
     "base_uri": "https://localhost:8080/"
    },
    "id": "79d168eb-8e47-4cc1-a17b-a7a99eee5670",
    "outputId": "1390176a-6863-426b-8b49-56d056558c71"
   },
   "outputs": [
    {
     "name": "stdout",
     "output_type": "stream",
     "text": [
      "Accuracy on training set: 0.923\n",
      "Accuracy on test set: 0.923\n"
     ]
    }
   ],
   "source": [
    "#Accuracy\n",
    "print(\"Accuracy on training set: {:.3f}\".format(nb.score(X_train, y_train)))\n",
    "print(\"Accuracy on test set: {:.3f}\".format(nb.score(X_test, y_test)))"
   ]
  },
  {
   "cell_type": "code",
   "execution_count": 144,
   "id": "19b53f21-526c-4f32-8693-a785bd2c8e4b",
   "metadata": {
    "colab": {
     "base_uri": "https://localhost:8080/"
    },
    "id": "b52aef1a-2242-4e15-bdb2-0a5ba75e949c",
    "outputId": "4399c0a3-7216-4c7b-e661-6e32f104e891"
   },
   "outputs": [
    {
     "name": "stdout",
     "output_type": "stream",
     "text": [
      "Mjority classifier Confusion Matrix\n",
      " [[9517  137]\n",
      " [1361 8490]]\n",
      "**********************\n",
      "Mjority TN=  9517\n",
      "Mjority FP= 137\n",
      "Mjority FN=  1361\n",
      "Mjority TP=  8490\n",
      "**********************\n",
      "Precision= 0.98\n",
      "Recall= 0.86\n",
      "F1= 0.92\n",
      "Accuracy= 0.92\n"
     ]
    }
   ],
   "source": [
    "#Confusion Matrix\n",
    "confusion_majority = confusion_matrix(y_test, y_pred)\n",
    "\n",
    "print('Mjority classifier Confusion Matrix\\n', confusion_majority)\n",
    "\n",
    "print('**********************')\n",
    "print('Mjority TN= ', confusion_majority[0][0])\n",
    "print('Mjority FP=', confusion_majority[0][1])\n",
    "print('Mjority FN= ', confusion_majority[1][0])\n",
    "print('Mjority TP= ', confusion_majority[1][1])\n",
    "print('**********************')\n",
    "\n",
    "print('Precision= {:.2f}'.format(precision_score(y_test, y_pred)))\n",
    "print('Recall= {:.2f}'. format(recall_score(y_test, y_pred)))\n",
    "print('F1= {:.2f}'. format(f1_score(y_test, y_pred)))\n",
    "print('Accuracy= {:.2f}'. format(accuracy_score(y_test, y_pred)))"
   ]
  },
  {
   "cell_type": "code",
   "execution_count": 145,
   "id": "1d2f23fa-b404-4be6-8c4f-7f4c8fcdbaa0",
   "metadata": {
    "colab": {
     "base_uri": "https://localhost:8080/"
    },
    "id": "d89c6b5a-cca4-48ce-bbbe-429454fb631e",
    "outputId": "ed361ba3-bd82-4f39-b004-2330dee7c691"
   },
   "outputs": [
    {
     "name": "stdout",
     "output_type": "stream",
     "text": [
      "AUC: 0.95\n"
     ]
    }
   ],
   "source": [
    "#AUC\n",
    "prob_NB = nb.predict_proba(X_test)\n",
    "prob_NB = prob_NB[:, 1]\n",
    "\n",
    "auc_NB= roc_auc_score(y_test, prob_NB)\n",
    "print('AUC: %.2f' % auc_NB)"
   ]
  },
  {
   "cell_type": "code",
   "execution_count": 159,
   "id": "cd0a367a-ff34-4f94-9cbd-f8e51cae0cad",
   "metadata": {
    "colab": {
     "base_uri": "https://localhost:8080/",
     "height": 312
    },
    "id": "de0898b3-4ccd-4e2d-b2a2-7c1fe3712695",
    "outputId": "304ec383-f4f5-4e05-ab67-7c67c0726843"
   },
   "outputs": [
    {
     "data": {
      "text/plain": [
       "<matplotlib.legend.Legend at 0x1d16ae07fd0>"
      ]
     },
     "execution_count": 159,
     "metadata": {},
     "output_type": "execute_result"
    },
    {
     "data": {
      "image/png": "[encoded data removed]",
      "text/plain": [
       "<Figure size 432x288 with 1 Axes>"
      ]
     },
     "metadata": {
      "needs_background": "light"
     },
     "output_type": "display_data"
    }
   ],
   "source": [
    "smote_fpr_NB, smote_tpr_NB, smote_thresholds_NB = roc_curve(y_test, prob_NB) \n",
    "\n",
    "plt.plot(smote_fpr_NB, smote_tpr_NB, color='darkorange', label='NB') \n",
    "plt.plot([0, 1], [0, 1], color='green', linestyle='--')\n",
    "plt.xlabel('False Positive Rate')\n",
    "plt.ylabel('True Positive Rate')\n",
    "plt.title('Receiver Operating Characteristic (ROC) Curve')\n",
    "plt.legend()"
   ]
  },
  {
   "cell_type": "code",
   "execution_count": 147,
   "id": "f017be7b-9a8f-4847-b4ae-3c533d1b8fe9",
   "metadata": {
    "id": "53776c6c-b7fb-441b-9e23-c44a851090a5"
   },
   "outputs": [],
   "source": [
    "# Question 11\n",
    "from sklearn.ensemble import RandomForestClassifier"
   ]
  },
  {
   "cell_type": "code",
   "execution_count": 148,
   "id": "e36a5062-b44d-4f8e-9151-6ab8c368edaf",
   "metadata": {
    "id": "3e18aecd-16a2-4cfc-b98c-5474ab43b42f"
   },
   "outputs": [],
   "source": [
    "rf = RandomForestClassifier(random_state=1, n_estimators=1000, max_depth=5)\n",
    "rf.fit(X_train, y_train)\n",
    "y_pred = rf.predict(X_test)"
   ]
  },
  {
   "cell_type": "code",
   "execution_count": 149,
   "id": "c25125e8-c80b-41a3-872d-3ec852d8ad59",
   "metadata": {
    "colab": {
     "base_uri": "https://localhost:8080/"
    },
    "id": "05c9d240-7f79-48d1-a933-06945c48bac8",
    "outputId": "f4f1ba05-8d13-40cc-ae13-9e1221e2154d"
   },
   "outputs": [
    {
     "name": "stdout",
     "output_type": "stream",
     "text": [
      "Accuracy on training set: 0.905\n",
      "Accuracy on test set: 0.906\n"
     ]
    }
   ],
   "source": [
    "#Accuracy\n",
    "print(\"Accuracy on training set: {:.3f}\".format(rf.score(X_train, y_train)))\n",
    "print(\"Accuracy on test set: {:.3f}\".format(rf.score(X_test, y_test)))"
   ]
  },
  {
   "cell_type": "code",
   "execution_count": 150,
   "id": "145b9671-379d-4be1-8151-5b0938a7b718",
   "metadata": {
    "colab": {
     "base_uri": "https://localhost:8080/"
    },
    "id": "d4c0aca2-aee1-4d91-bcd9-8adf77c56436",
    "outputId": "976ea04b-3908-4445-dfe5-bed36a07a522"
   },
   "outputs": [
    {
     "name": "stdout",
     "output_type": "stream",
     "text": [
      "Mjority classifier Confusion Matrix\n",
      " [[9042  612]\n",
      " [1226 8625]]\n",
      "**********************\n",
      "Mjority TN=  9042\n",
      "Mjority FP= 612\n",
      "Mjority FN=  1226\n",
      "Mjority TP=  8625\n",
      "**********************\n",
      "Precision= 0.93\n",
      "Recall= 0.88\n",
      "F1= 0.90\n",
      "Accuracy= 0.91\n"
     ]
    }
   ],
   "source": [
    "#Confusion Matrix\n",
    "confusion_majority = confusion_matrix(y_test, y_pred)\n",
    "\n",
    "print('Mjority classifier Confusion Matrix\\n', confusion_majority)\n",
    "\n",
    "print('**********************')\n",
    "print('Mjority TN= ', confusion_majority[0][0])\n",
    "print('Mjority FP=', confusion_majority[0][1])\n",
    "print('Mjority FN= ', confusion_majority[1][0])\n",
    "print('Mjority TP= ', confusion_majority[1][1])\n",
    "print('**********************')\n",
    "\n",
    "print('Precision= {:.2f}'.format(precision_score(y_test, y_pred)))\n",
    "print('Recall= {:.2f}'. format(recall_score(y_test, y_pred)))\n",
    "print('F1= {:.2f}'. format(f1_score(y_test, y_pred)))\n",
    "print('Accuracy= {:.2f}'. format(accuracy_score(y_test, y_pred)))"
   ]
  },
  {
   "cell_type": "code",
   "execution_count": 151,
   "id": "a912f22b-0cff-4c8f-9556-c64e96468912",
   "metadata": {
    "colab": {
     "base_uri": "https://localhost:8080/"
    },
    "id": "bafb68bb-90b2-406e-956d-15a7d223efca",
    "outputId": "0d46f149-0669-4dd9-d961-f98dcd50c0a9"
   },
   "outputs": [
    {
     "name": "stdout",
     "output_type": "stream",
     "text": [
      "AUC: 0.95\n"
     ]
    }
   ],
   "source": [
    "#AUC\n",
    "prob_RF = rf.predict_proba(X_test)\n",
    "prob_RF = prob_RF[:, 1]\n",
    "\n",
    "auc_RF= roc_auc_score(y_test, prob_RF)\n",
    "print('AUC: %.2f' % auc_RF)"
   ]
  },
  {
   "cell_type": "code",
   "execution_count": 160,
   "id": "2c4a0188-ad62-4968-a942-a1ea63b3b419",
   "metadata": {
    "colab": {
     "base_uri": "https://localhost:8080/",
     "height": 312
    },
    "id": "b45da3bf-1517-4441-91ee-7efdd9ec07de",
    "outputId": "47dddd89-a7b3-4265-faa7-4af6cef96290"
   },
   "outputs": [
    {
     "data": {
      "text/plain": [
       "<matplotlib.legend.Legend at 0x1d1656392e0>"
      ]
     },
     "execution_count": 160,
     "metadata": {},
     "output_type": "execute_result"
    },
    {
     "data": {
      "image/png": "[encoded data removed]",
      "text/plain": [
       "<Figure size 432x288 with 1 Axes>"
      ]
     },
     "metadata": {
      "needs_background": "light"
     },
     "output_type": "display_data"
    }
   ],
   "source": [
    "smote_fpr_RF, smote_tpr_RF, smote_thresholds_RF = roc_curve(y_test, prob_RF) \n",
    "\n",
    "plt.plot(smote_fpr_RF, smote_tpr_RF, color='darkblue', label='RF') \n",
    "plt.plot([0, 1], [0, 1], color='green', linestyle='--')\n",
    "plt.xlabel('False Positive Rate')\n",
    "plt.ylabel('True Positive Rate')\n",
    "plt.title('Receiver Operating Characteristic (ROC) Curve')\n",
    "plt.legend()"
   ]
  },
  {
   "cell_type": "code",
   "execution_count": 153,
   "id": "a471bfb5-bf37-4e91-9fe7-655d0438fbd6",
   "metadata": {
    "id": "576fe4ee-0567-441c-ae6a-01d8d42eb58f"
   },
   "outputs": [],
   "source": [
    "from sklearn.neighbors import KNeighborsClassifier\n",
    "\n",
    "KNN = KNeighborsClassifier(n_neighbors=3)\n",
    "KNN.fit(X_train, y_train)\n",
    "y_pred = KNN.predict(X_test)"
   ]
  },
  {
   "cell_type": "code",
   "execution_count": 154,
   "id": "d5b264ac-87e9-42bc-ab69-efc6062b77f5",
   "metadata": {
    "colab": {
     "base_uri": "https://localhost:8080/"
    },
    "id": "-7VZ9ezgbyrb",
    "outputId": "b9ec3454-7a5e-4ccb-c494-ff7d21f8e41d"
   },
   "outputs": [
    {
     "name": "stdout",
     "output_type": "stream",
     "text": [
      "Accuracy on training set: 0.959\n",
      "Accuracy on test set: 0.924\n"
     ]
    }
   ],
   "source": [
    "#Accuracy\n",
    "print(\"Accuracy on training set: {:.3f}\".format(KNN.score(X_train, y_train)))\n",
    "print(\"Accuracy on test set: {:.3f}\".format(KNN.score(X_test, y_test)))"
   ]
  },
  {
   "cell_type": "code",
   "execution_count": 155,
   "id": "ae6c744a-0416-4d8d-9bf2-436a84e837a9",
   "metadata": {
    "colab": {
     "base_uri": "https://localhost:8080/"
    },
    "id": "gQtJQsILcI5l",
    "outputId": "7ec6540e-ec2b-4dff-f5a3-2c8b202352f6"
   },
   "outputs": [
    {
     "name": "stdout",
     "output_type": "stream",
     "text": [
      "Mjority classifier Confusion Matrix\n",
      " [[8221 1433]\n",
      " [  42 9809]]\n",
      "**********************\n",
      "Mjority TN=  8221\n",
      "Mjority FP= 1433\n",
      "Mjority FN=  42\n",
      "Mjority TP=  9809\n",
      "**********************\n",
      "Precision= 0.87\n",
      "Recall= 1.00\n",
      "F1= 0.93\n",
      "Accuracy= 0.92\n"
     ]
    }
   ],
   "source": [
    "#Confusion Matrix\n",
    "confusion_majority = confusion_matrix(y_test, y_pred)\n",
    "\n",
    "print('Mjority classifier Confusion Matrix\\n', confusion_majority)\n",
    "\n",
    "print('**********************')\n",
    "print('Mjority TN= ', confusion_majority[0][0])\n",
    "print('Mjority FP=', confusion_majority[0][1])\n",
    "print('Mjority FN= ', confusion_majority[1][0])\n",
    "print('Mjority TP= ', confusion_majority[1][1])\n",
    "print('**********************')\n",
    "\n",
    "print('Precision= {:.2f}'.format(precision_score(y_test, y_pred)))\n",
    "print('Recall= {:.2f}'. format(recall_score(y_test, y_pred)))\n",
    "print('F1= {:.2f}'. format(f1_score(y_test, y_pred)))\n",
    "print('Accuracy= {:.2f}'. format(accuracy_score(y_test, y_pred)))"
   ]
  },
  {
   "cell_type": "code",
   "execution_count": 156,
   "id": "fbc249d5-1545-4bfc-8a7d-56b92b22b237",
   "metadata": {
    "colab": {
     "base_uri": "https://localhost:8080/"
    },
    "id": "kazK30TAchN7",
    "outputId": "da203f6e-6a53-4cfd-8c43-75b0fb8f2166"
   },
   "outputs": [
    {
     "name": "stdout",
     "output_type": "stream",
     "text": [
      "AUC: 0.96\n"
     ]
    }
   ],
   "source": [
    "#AUC\n",
    "prob_KNN = KNN.predict_proba(X_test)\n",
    "prob_KNN = prob_KNN[:, 1]\n",
    "\n",
    "auc_KNN = roc_auc_score(y_test, prob_KNN)\n",
    "print('AUC: %.2f' % auc_KNN)"
   ]
  },
  {
   "cell_type": "code",
   "execution_count": 161,
   "id": "eead363f-af82-44e3-a038-89ff472e43a0",
   "metadata": {
    "colab": {
     "base_uri": "https://localhost:8080/",
     "height": 312
    },
    "id": "NsQHlTjlci1i",
    "outputId": "9d07b0e8-8542-4f97-aab9-7973dc703864",
    "tags": []
   },
   "outputs": [
    {
     "data": {
      "text/plain": [
       "<matplotlib.legend.Legend at 0x1d16aeb7fd0>"
      ]
     },
     "execution_count": 161,
     "metadata": {},
     "output_type": "execute_result"
    },
    {
     "data": {
      "image/png": "[encoded data removed]",
      "text/plain": [
       "<Figure size 432x288 with 1 Axes>"
      ]
     },
     "metadata": {
      "needs_background": "light"
     },
     "output_type": "display_data"
    }
   ],
   "source": [
    "smote_fpr_KNN, smote_tpr_KNN, smote_thresholds_KNN = roc_curve(y_test, prob_KNN) \n",
    "\n",
    "plt.plot(smote_fpr_KNN, smote_tpr_KNN, color='darkred', label='KNN') \n",
    "plt.plot([0, 1], [0, 1], color='green', linestyle='--')\n",
    "plt.xlabel('False Positive Rate')\n",
    "plt.ylabel('True Positive Rate')\n",
    "plt.title('Receiver Operating Characteristic (ROC) Curve')\n",
    "plt.legend()"
   ]
  },
  {
   "cell_type": "code",
   "execution_count": 181,
   "id": "db7d4e9a-aa10-426d-9d24-f39ec3b69e35",
   "metadata": {},
   "outputs": [
    {
     "data": {
      "text/plain": [
       "<matplotlib.legend.Legend at 0x1d165a55e50>"
      ]
     },
     "execution_count": 181,
     "metadata": {},
     "output_type": "execute_result"
    },
    {
     "data": {
      "image/png": "[encoded data removed]",
      "text/plain": [
       "<Figure size 432x288 with 1 Axes>"
      ]
     },
     "metadata": {
      "needs_background": "light"
     },
     "output_type": "display_data"
    }
   ],
   "source": [
    "# Question 13\n",
    "plt.plot(fpr_NB, tpr_NB, color='orange', label='NB')\n",
    "plt.plot(fpr_RF, tpr_RF, color='blue', label='RF')\n",
    "plt.plot(fpr_KNN, tpr_KNN, color='red', label='KNN')\n",
    "plt.plot(smote_fpr_NB, smote_tpr_NB, color='darkorange', label='SMOTE_NB')\n",
    "plt.plot(smote_fpr_RF, smote_tpr_RF, color='darkblue', label='SMOTE_RF')\n",
    "plt.plot(smote_fpr_KNN, smote_tpr_KNN, color='darkred', label='SMOTE_KNN')\n",
    "plt.plot([0, 1], [0, 1], color='green', linestyle='--')\n",
    "plt.xlabel('False Positive Rate')\n",
    "plt.ylabel('True Positive Rate')\n",
    "plt.title('Receiver Operating Characteristic (ROC) Curve')\n",
    "plt.legend()"
   ]
  },
  {
   "cell_type": "code",
   "execution_count": null,
   "id": "e5845a60-7d3f-4487-8c0d-54d83fc66ba9",
   "metadata": {},
   "outputs": [],
   "source": []
  }
 ],
 "metadata": {
  "colab": {
   "name": "DataMining1.ipynb",
   "provenance": []
  },
  "kernelspec": {
   "display_name": "Python 3 (ipykernel)",
   "language": "python",
   "name": "python3"
  },
  "language_info": {
   "codemirror_mode": {
    "name": "ipython",
    "version": 3
   },
   "file_extension": ".py",
   "mimetype": "text/x-python",
   "name": "python",
   "nbconvert_exporter": "python",
   "pygments_lexer": "ipython3",
   "version": "3.9.7"
  }
 },
 "nbformat": 4,
 "nbformat_minor": 5
}
